{
 "cells": [
  {
   "cell_type": "code",
   "execution_count": null,
   "id": "a9a2c195-81ab-4689-9879-6712e6705ccf",
   "metadata": {},
   "outputs": [],
   "source": [
    "import os\n",
    "import shutil\n",
    "\n",
    "def fill_missing_images(directory):\n",
    "    expected_images = 6035  # From 000000.png to 006034.png\n",
    "    for i in range(1, expected_images):\n",
    "        current_image = f\"{i:06d}.png\"\n",
    "        previous_image = f\"{i-1:06d}.png\"\n",
    "        \n",
    "        current_image_path = os.path.join(directory, current_image)\n",
    "        previous_image_path = os.path.join(directory, previous_image)\n",
    "        \n",
    "        if not os.path.exists(current_image_path):\n",
    "            if os.path.exists(previous_image_path):\n",
    "                print(f\"Copying {previous_image} to {current_image}\")\n",
    "                shutil.copy2(previous_image_path, current_image_path)\n",
    "            else:\n",
    "                print(f\"Error: Missing {previous_image}, cannot copy to {current_image}\")\n",
    "                \n",
    "if __name__ == \"__main__\":\n",
    "    directory = \"C:\\\\Datasets\\\\Talis_frames15_v2\"\n",
    "    fill_missing_images(directory)\n"
   ]
  },
  {
   "cell_type": "code",
   "execution_count": null,
   "id": "aedfd8ef-ffc3-470c-81f3-a7a68ab4bb5d",
   "metadata": {},
   "outputs": [],
   "source": []
  }
 ],
 "metadata": {
  "kernelspec": {
   "display_name": "Python 3 (ipykernel)",
   "language": "python",
   "name": "python3"
  },
  "language_info": {
   "codemirror_mode": {
    "name": "ipython",
    "version": 3
   },
   "file_extension": ".py",
   "mimetype": "text/x-python",
   "name": "python",
   "nbconvert_exporter": "python",
   "pygments_lexer": "ipython3",
   "version": "3.10.13"
  }
 },
 "nbformat": 4,
 "nbformat_minor": 5
}

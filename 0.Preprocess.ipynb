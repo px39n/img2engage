{
 "cells": [
  {
   "cell_type": "markdown",
   "id": "bef07f77-ea7b-4ad4-93e8-37d5caca26fc",
   "metadata": {},
   "source": [
    "# Generate Skeleton Image\n",
    "\n",
    "**Given Image directory:**\n",
    "\n",
    "img_dir\n",
    "\n",
    "**Wanted:**\n",
    "\n",
    "create a file(skeleton) contains skeleton corresponding to image under img_dir\n"
   ]
  },
  {
   "cell_type": "code",
   "execution_count": null,
   "id": "00154552-9c52-4133-bf0a-02c3dadf42dc",
   "metadata": {},
   "outputs": [],
   "source": [
    "cd C:\\Datasets\\Engagement\\VIDEO000\\\n",
    "C:\\Users\\isxzl\\OneDrive\\Code\\openpose\\bin\\OpenPoseDemo.exe --video \"00000.avi\" --write_images 00000/image_skeleton --display 0 --render_pose 0\n"
   ]
  },
  {
   "cell_type": "markdown",
   "id": "de282f68-8ada-4f6b-9349-163187e6b3ad",
   "metadata": {},
   "source": [
    "# Generate Segmentation Image\n",
    "\n",
    "**Given Image directory:**\n",
    "\n",
    "img_dir\n",
    "\n",
    "**Wanted:**\n",
    "\n",
    "create two file(teacher, student) contains teacher.npy and student.npy corresponding to image under img_dir\n",
    "\n",
    "\n",
    "Reference:\n",
    "\n",
    "https://github.com/z-x-yang/Segment-and-Track-Anything"
   ]
  },
  {
   "cell_type": "raw",
   "id": "8c0cc010-e69c-4f3d-9f2e-79c8a1538187",
   "metadata": {},
   "source": [
    "cd C:\\Users\\isxzl\\OneDrive\\Code\\Segment-and-Track-Anything\n",
    "bash script/install.sh\n",
    "bash script/download_ckpt.sh\n",
    "python app.py\n",
    "Save Image to npy_dir=r\"..\\npy\""
   ]
  },
  {
   "cell_type": "code",
   "execution_count": null,
   "id": "b3c2a890-b2e3-4f9b-8964-a4907eb30ada",
   "metadata": {},
   "outputs": [
    {
     "name": "stderr",
     "output_type": "stream",
     "text": [
      "1414it [00:07, 107.29it/s]"
     ]
    }
   ],
   "source": [
    "import os\n",
    "import numpy as np\n",
    "import pandas as pd\n",
    "from tqdm import tqdm\n",
    "\n",
    "base_dir=\"C:\\Datasets\\Engagement\\VIDEO000\\00000\"\n",
    "base_dir=\"C:\\Datasets\\Engagement\"\n",
    "\n",
    "npy_dir=os.path.join(base_dir, \"npy\")\n",
    "mask_dir=os.path.join(base_dir, \"teachernpy\")\n",
    "unmask_dir=os.path.join(base_dir, \"studentnpy\")\n",
    "csv_dir=os.path.join(base_dir, \"head_information.txt\")\n",
    "df = pd.read_csv(csv_dir)\n",
    "\n",
    "# Iterate through each row\n",
    "for index, row in tqdm(df.iterrows()):\n",
    "\n",
    "    x0=int(row.iloc[1])\n",
    "    y0=int(row.iloc[2])\n",
    "    x1=int(row.iloc[3])\n",
    "    y1=int(row.iloc[4])\n",
    "    nose_x = int((x0+x1)/2)\n",
    "    nose_y = int((y0+y1)/2)\n",
    "\n",
    "    # right_kneeX\t=int(row['right_kneeX'])\n",
    "    # right_kneeY=int(row['right_kneeY'])\n",
    "    # right_elbowX=int(row['right_elbowX'])\n",
    "    # right_elbowY=int(row['right_elbowY'])\n",
    "\n",
    "    img_id = row.iloc[0]\n",
    "\n",
    "    # Get the basename without extension\n",
    "    basename = os.path.splitext(img_id)[0].split(\"\\\\\")[1]\n",
    "\n",
    "    # Load the .npy file\n",
    "    npy_path = os.path.join(npy_dir, f\"{basename}.npy\")\n",
    "    if os.path.exists(npy_path):\n",
    "        array = np.load(npy_path)\n",
    "\n",
    "        # Check the value at the specified position\n",
    "        if array[nose_y][nose_x] != 0:\n",
    "            yyy,xxx=nose_y,nose_x\n",
    "        elif array[y0][x0]!=0:\n",
    "            yyy,xxx=y0,x0\n",
    "        elif array[y1][x1]!=0:    \n",
    "        #     yyy,xxx=right_kneeY,right_kneeX\n",
    "            yyy,xxx=y1,x1\n",
    "        # elif array[right_elbowY][right_elbowX] != 0:\n",
    "        #     yyy,xxx=right_elbowY,right_elbowX    \n",
    "        else:\n",
    "            print(\"Detect failure\")\n",
    "            yyy,xxx=555,555\n",
    "        value = array[yyy][xxx]\n",
    "        # Create mask with the same value\n",
    "        mask = np.zeros_like(array)\n",
    "        mask[array == value] = 1\n",
    "\n",
    "        # Create unmask with all other values masked\n",
    "        unmask = np.zeros_like(array)\n",
    "        unmask[(array != value) & (array != 0)] = 1\n",
    "\n",
    "        # Save masks\n",
    "        np.save(os.path.join(mask_dir, f\"{basename}.npy\"), mask)\n",
    "        np.save(os.path.join(unmask_dir, f\"{basename}.npy\"), unmask)\n",
    " \n"
   ]
  },
  {
   "cell_type": "code",
   "execution_count": 10,
   "id": "f6affe58-7dd9-46b3-a377-846bb5445abd",
   "metadata": {},
   "outputs": [
    {
     "data": {
      "text/plain": [
       "['image_original', '006032']"
      ]
     },
     "execution_count": 10,
     "metadata": {},
     "output_type": "execute_result"
    }
   ],
   "source": []
  },
  {
   "cell_type": "code",
   "execution_count": null,
   "id": "4bd96058-e2bb-4f67-b554-69c02e8d2819",
   "metadata": {},
   "outputs": [],
   "source": [
    "import os\n",
    "import numpy as np\n",
    "import matplotlib.pyplot as plt\n",
    "\n",
    "# Example usage:\n",
    "filepath=r\"C:\\Datasets\\Engagement\\npy\\000001.npy\"\n",
    "data = np.load(filepath)\n",
    "tdata = np.load(r\"C:\\Datasets\\Engagement\\teachernpy\\000001.npy\")\n",
    "sdata = np.load(r\"C:\\Datasets\\Engagement\\studentnpy\\000001.npy\")\n",
    "print(f\"Size of {data.shape}\")\n",
    "\n",
    "# Plot the data\n",
    "plt.figure(figsize=(18, 6))\n",
    "\n",
    "# Plot data\n",
    "plt.subplot(1, 3, 1)\n",
    "plt.imshow(data)\n",
    "plt.title('Data')\n",
    "\n",
    "# Plot tdata\n",
    "plt.subplot(1, 3, 2)\n",
    "plt.imshow(tdata)\n",
    "plt.title('Teacher Data')\n",
    "\n",
    "# Plot sdata\n",
    "plt.subplot(1, 3, 3)\n",
    "plt.imshow(sdata)\n",
    "plt.title('Student Data')\n",
    "\n",
    "plt.show()\n"
   ]
  }
 ],
 "metadata": {
  "kernelspec": {
   "display_name": "Python 3 (ipykernel)",
   "language": "python",
   "name": "python3"
  },
  "language_info": {
   "codemirror_mode": {
    "name": "ipython",
    "version": 3
   },
   "file_extension": ".py",
   "mimetype": "text/x-python",
   "name": "python",
   "nbconvert_exporter": "python",
   "pygments_lexer": "ipython3",
   "version": "3.10.13"
  }
 },
 "nbformat": 4,
 "nbformat_minor": 5
}

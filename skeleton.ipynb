{
 "cells": [
  {
   "cell_type": "code",
   "execution_count": 1,
   "id": "3fd81e41-efb1-427d-8076-18c45d4856e6",
   "metadata": {},
   "outputs": [
    {
     "ename": "ModuleNotFoundError",
     "evalue": "No module named 'openpose'",
     "output_type": "error",
     "traceback": [
      "\u001b[1;31m---------------------------------------------------------------------------\u001b[0m",
      "\u001b[1;31mModuleNotFoundError\u001b[0m                       Traceback (most recent call last)",
      "Cell \u001b[1;32mIn[1], line 3\u001b[0m\n\u001b[0;32m      1\u001b[0m \u001b[38;5;28;01mimport\u001b[39;00m \u001b[38;5;21;01mcv2\u001b[39;00m\n\u001b[0;32m      2\u001b[0m \u001b[38;5;28;01mimport\u001b[39;00m \u001b[38;5;21;01mnumpy\u001b[39;00m \u001b[38;5;28;01mas\u001b[39;00m \u001b[38;5;21;01mnp\u001b[39;00m\n\u001b[1;32m----> 3\u001b[0m \u001b[38;5;28;01mfrom\u001b[39;00m \u001b[38;5;21;01mopenpose\u001b[39;00m \u001b[38;5;28;01mimport\u001b[39;00m pyopenpose \u001b[38;5;28;01mas\u001b[39;00m op\n",
      "\u001b[1;31mModuleNotFoundError\u001b[0m: No module named 'openpose'"
     ]
    }
   ],
   "source": [
    "import cv2\n",
    "import numpy as np\n",
    "from openpose import pyopenpose as op\n"
   ]
  },
  {
   "cell_type": "code",
   "execution_count": null,
   "id": "00154552-9c52-4133-bf0a-02c3dadf42dc",
   "metadata": {},
   "outputs": [],
   "source": [
    "\n",
    "# Step 1: Set up OpenPose parameters\n",
    "params = {\n",
    "    \"model_folder\": \"path/to/openpose/models/\",\n",
    "    \"face\": False,\n",
    "    \"hand\": False,\n",
    "}\n",
    "\n",
    "# Step 2: Initialize OpenPose\n",
    "opWrapper = op.WrapperPython()\n",
    "opWrapper.configure(params)\n",
    "opWrapper.start()\n",
    "\n",
    "# Step 3: Process image\n",
    "image_path = \"path/to/your/image.jpg\"\n",
    "datum = op.Datum()\n",
    "imageToProcess = cv2.imread(image_path)\n",
    "datum.cvInputData = imageToProcess\n",
    "opWrapper.emplaceAndPop([datum])\n",
    "\n",
    "# Step 4: Extract skeleton\n",
    "skeleton_image = datum.cvOutputData\n",
    "\n",
    "# Step 5: Display or save results\n",
    "cv2.imshow(\"Original Image\", imageToProcess)\n",
    "cv2.imshow(\"Skeleton\", skeleton_image)\n",
    "cv2.waitKey(0)\n",
    "cv2.destroyAllWindows()\n"
   ]
  }
 ],
 "metadata": {
  "kernelspec": {
   "display_name": "Python 3 (ipykernel)",
   "language": "python",
   "name": "python3"
  },
  "language_info": {
   "codemirror_mode": {
    "name": "ipython",
    "version": 3
   },
   "file_extension": ".py",
   "mimetype": "text/x-python",
   "name": "python",
   "nbconvert_exporter": "python",
   "pygments_lexer": "ipython3",
   "version": "3.10.13"
  }
 },
 "nbformat": 4,
 "nbformat_minor": 5
}

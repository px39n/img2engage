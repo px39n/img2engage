{
 "cells": [
  {
   "cell_type": "markdown",
   "id": "3201e085-ad77-4b08-a1a9-ea98840f2f65",
   "metadata": {},
   "source": [
    "# Exploratary Data Analysis\n",
    "\n",
    "1. data type\n",
    "2. data distribution"
   ]
  },
  {
   "cell_type": "code",
   "execution_count": 24,
   "id": "998659a6-17ef-4072-848b-3e747098e5c7",
   "metadata": {},
   "outputs": [
    {
     "name": "stderr",
     "output_type": "stream",
     "text": [
      "C:\\Users\\isxzl\\anaconda3\\envs\\engagement\\lib\\site-packages\\FeatureInsight\\structure_Investigation.py:55: UserWarning: Pandas doesn't allow columns to be created via a new attribute name - see https://pandas.pydata.org/pandas-docs/stable/indexing.html#attribute-access\n",
      "  df.img_list=[]\n"
     ]
    },
    {
     "name": "stdout",
     "output_type": "stream",
     "text": [
      "There are 2451 instances, 76 cols in total\n"
     ]
    },
    {
     "name": "stderr",
     "output_type": "stream",
     "text": [
      "100%|█████████████████████████████████████████████████████████████████████████████████| 76/76 [00:00<00:00, 611.87it/s]\n"
     ]
    },
    {
     "name": "stdout",
     "output_type": "stream",
     "text": [
      "+-----------------+---------+------------------+------------------------+--------------+--------------------------------------------+\n",
      "| variable        | dtype   | measure_scales   | Unique Count           | Null Count   | thumbnail                                  |\n",
      "|-----------------+---------+------------------+------------------------+--------------+--------------------------------------------|\n",
      "| teacherID       | int64   | Categorical Data | 37(1.51%) of total     | 0(0.0%)      | [24, 47, 28]                               |\n",
      "| gaze0           | int64   | Categorical Data | 5(0.20%) of total      | 0(0.0%)      | [1, 3, 3]                                  |\n",
      "| gaze1           | int64   | Categorical Data | 6(0.24%) of total      | 0(0.0%)      | [3, 2, 2]                                  |\n",
      "| gaze2           | int64   | Categorical Data | 5(0.20%) of total      | 0(0.0%)      | [3, 2, -1]                                 |\n",
      "| distance0       | int64   | numerical Data   | 277(11.30%) of total   | 0(0.0%)      | [7139, 3479, 4746]                         |\n",
      "| distance1       | int64   | numerical Data   | 469(19.14%) of total   | 0(0.0%)      | [3310, 8025, 7825]                         |\n",
      "| distance2       | int64   | numerical Data   | 292(11.91%) of total   | 0(0.0%)      | [2522, 6379, 5394]                         |\n",
      "| relaxation0     | int64   | Categorical Data | 237(9.67%) of total    | 0(0.0%)      | [4352, 8772, 2381]                         |\n",
      "| relaxation1     | int64   | numerical Data   | 466(19.01%) of total   | 0(0.0%)      | [3761, 3198, 3873]                         |\n",
      "| relaxation2     | int64   | Categorical Data | 237(9.67%) of total    | 0(0.0%)      | [4324, 3873, 3986]                         |\n",
      "| gesture0        | int64   | numerical Data   | 306(12.48%) of total   | 0(0.0%)      | [6942, 0, 0]                               |\n",
      "| gesture1        | int64   | numerical Data   | 501(20.44%) of total   | 0(0.0%)      | [0, 9975, 8425]                            |\n",
      "| gesture2        | int64   | numerical Data   | 292(11.91%) of total   | 0(0.0%)      | [2100, 7815, 4802]                         |\n",
      "| imgID           | {'str'} | Categorical Data | 2451(100.00%) of total | 0(0.0%)      | ['005009.png', '005132.png', '000139.png'] |\n",
      "| posX            | int64   | numerical Data   | 873(35.62%) of total   | 0(0.0%)      | [176, 709, 804]                            |\n",
      "| posY            | int64   | numerical Data   | 361(14.73%) of total   | 0(0.0%)      | [526, 542, 308]                            |\n",
      "| gaze            | int64   | Categorical Data | 4(0.16%) of total      | 0(0.0%)      | [3, 3, 3]                                  |\n",
      "| distance        | int64   | numerical Data   | 1600(65.28%) of total  | 0(0.0%)      | [7422, 6613, 5342]                         |\n",
      "| relaxation      | float64 | numerical Data   | 1349(55.04%) of total  | 0(0.0%)      | [4370.0, 4231.0, 4164.0]                   |\n",
      "| gesture         | float64 | numerical Data   | 1084(44.23%) of total  | 0(0.0%)      | [240.0, 700.0, 690.0]                      |\n",
      "| noseX           | float64 | numerical Data   | 2415(98.53%) of total  | 0(0.0%)      | [450.91, 182.15, 605.1]                    |\n",
      "| noseY           | float64 | numerical Data   | 2345(95.68%) of total  | 0(0.0%)      | [187.77, 338.08, 128.38]                   |\n",
      "| noseZ           | float64 | numerical Data   | 2151(87.76%) of total  | 0(0.0%)      | [0.46542, 0.91206, 0.91689]                |\n",
      "| left_eyeX       | float64 | numerical Data   | 2413(98.45%) of total  | 0(0.0%)      | [903.33, 523.77, 942.73]                   |\n",
      "| left_eyeY       | float64 | numerical Data   | 2359(96.25%) of total  | 0(0.0%)      | [328.23, 152.25, 150.16]                   |\n",
      "| left_eyeZ       | float64 | numerical Data   | 2225(90.78%) of total  | 0(0.0%)      | [0.89519, 0.93615, 0.91512]                |\n",
      "| right_eyeX      | float64 | numerical Data   | 2411(98.37%) of total  | 0(0.0%)      | [531.76, 324.24, 341.34]                   |\n",
      "| right_eyeY      | float64 | numerical Data   | 2359(96.25%) of total  | 0(0.0%)      | [347.63, 276.08, 176.62]                   |\n",
      "| right_eyeZ      | float64 | numerical Data   | 2202(89.84%) of total  | 0(0.0%)      | [0.90351, 0.95286, 0.94367]                |\n",
      "| left_earX       | float64 | numerical Data   | 2417(98.61%) of total  | 0(0.0%)      | [449.47, 230.52, 563.25]                   |\n",
      "| left_earY       | float64 | numerical Data   | 2359(96.25%) of total  | 0(0.0%)      | [349.81, 170.48, 276.22]                   |\n",
      "| left_earZ       | float64 | numerical Data   | 2346(95.72%) of total  | 0(0.0%)      | [0.76433, 0.89603, 0.90715]                |\n",
      "| right_earX      | float64 | numerical Data   | 2417(98.61%) of total  | 0(0.0%)      | [17.256, 326.85, 147.95]                   |\n",
      "| right_earY      | float64 | numerical Data   | 2347(95.76%) of total  | 0(0.0%)      | [147.69, 282.18, 182.1]                    |\n",
      "| right_earZ      | float64 | numerical Data   | 2296(93.68%) of total  | 0(0.0%)      | [0.96175, 0.89958, 0.5665]                 |\n",
      "| left_shoulderX  | float64 | numerical Data   | 2420(98.74%) of total  | 0(0.0%)      | [883.23, 597.78, 159.56]                   |\n",
      "| left_shoulderY  | float64 | numerical Data   | 2346(95.72%) of total  | 0(0.0%)      | [390.27, 234.66, 433.04]                   |\n",
      "| left_shoulderZ  | float64 | numerical Data   | 2308(94.17%) of total  | 0(0.0%)      | [0.87601, 0.81987, 0.86182]                |\n",
      "| right_shoulderX | float64 | numerical Data   | 2420(98.74%) of total  | 0(0.0%)      | [115.12, 507.4, 517.38]                    |\n",
      "| right_shoulderY | float64 | numerical Data   | 2357(96.16%) of total  | 0(0.0%)      | [224.72, 209.37, 408.56]                   |\n",
      "| right_shoulderZ | float64 | numerical Data   | 2291(93.47%) of total  | 0(0.0%)      | [0.83326, 0.81645, 0.90322]                |\n",
      "| left_elbowX     | float64 | numerical Data   | 2414(98.49%) of total  | 0(0.0%)      | [386.73, 514.95, 365.46]                   |\n",
      "| left_elbowY     | float64 | numerical Data   | 2345(95.68%) of total  | 0(0.0%)      | [405.23, 175.83, 272.37]                   |\n",
      "| left_elbowZ     | float64 | numerical Data   | 2347(95.76%) of total  | 0(0.0%)      | [0.86352, 0.2017, 0.49663]                 |\n",
      "| right_elbowX    | float64 | numerical Data   | 2417(98.61%) of total  | 0(0.0%)      | [394.8, 519.84, 333.63]                    |\n",
      "| right_elbowY    | float64 | numerical Data   | 2365(96.49%) of total  | 0(0.0%)      | [318.99, 508.12, 252.55]                   |\n",
      "| right_elbowZ    | float64 | numerical Data   | 2327(94.94%) of total  | 0(0.0%)      | [0.76684, 0.8347, 0.89849]                 |\n",
      "| left_wristX     | float64 | numerical Data   | 2425(98.94%) of total  | 0(0.0%)      | [723.85, 616.62, 416.14]                   |\n",
      "| left_wristY     | float64 | numerical Data   | 2347(95.76%) of total  | 0(0.0%)      | [385.29, 264.9, 365.01]                    |\n",
      "| left_wristZ     | float64 | numerical Data   | 2322(94.74%) of total  | 0(0.0%)      | [0.82905, 0.81019, 0.88892]                |\n",
      "| right_wristX    | float64 | numerical Data   | 2420(98.74%) of total  | 0(0.0%)      | [830.3, 117.47, 737.34]                    |\n",
      "| right_wristY    | float64 | numerical Data   | 2370(96.70%) of total  | 0(0.0%)      | [269.84, 356.66, 311.31]                   |\n",
      "| right_wristZ    | float64 | numerical Data   | 2310(94.25%) of total  | 0(0.0%)      | [0.4743, 0.93218, 0.84117]                 |\n",
      "| left_hipX       | float64 | numerical Data   | 2409(98.29%) of total  | 0(0.0%)      | [661.3, 257.79, 621.16]                    |\n",
      "| left_hipY       | float64 | numerical Data   | 2345(95.68%) of total  | 0(0.0%)      | [284.36, 313.25, 434.12]                   |\n",
      "| left_hipZ       | float64 | numerical Data   | 2350(95.88%) of total  | 0(0.0%)      | [0.60603, 0.72578, 0.29564]                |\n",
      "| right_hipX      | float64 | numerical Data   | 2419(98.69%) of total  | 0(0.0%)      | [497.52, 682.94, 1007.1]                   |\n",
      "| right_hipY      | float64 | numerical Data   | 2355(96.08%) of total  | 0(0.0%)      | [198.11, 437.14, 435.97]                   |\n",
      "| right_hipZ      | float64 | numerical Data   | 2354(96.04%) of total  | 0(0.0%)      | [0.62849, 0.78431, 0.37605]                |\n",
      "| left_kneeX      | float64 | numerical Data   | 2415(98.53%) of total  | 0(0.0%)      | [807.28, 581.34, 516.78]                   |\n",
      "| left_kneeY      | float64 | numerical Data   | 2354(96.04%) of total  | 0(0.0%)      | [255.23, 337.8, 356.92]                    |\n",
      "| left_kneeZ      | float64 | numerical Data   | 2415(98.53%) of total  | 0(0.0%)      | [0.48422, 0.056696, 0.076902]              |\n",
      "| right_kneeX     | float64 | numerical Data   | 2418(98.65%) of total  | 0(0.0%)      | [947.47, 339.5, 64.845]                    |\n",
      "| right_kneeY     | float64 | numerical Data   | 2364(96.45%) of total  | 0(0.0%)      | [312.18, 316.75, 293.05]                   |\n",
      "| right_kneeZ     | float64 | numerical Data   | 2425(98.94%) of total  | 0(0.0%)      | [0.84614, 0.73846, 0.60761]                |\n",
      "| left_ankleX     | float64 | numerical Data   | 2401(97.96%) of total  | 0(0.0%)      | [754.27, 550.17, 727.14]                   |\n",
      "| left_ankleY     | float64 | numerical Data   | 2382(97.18%) of total  | 0(0.0%)      | [332.65, 512.86, 481.71]                   |\n",
      "| left_ankleZ     | float64 | numerical Data   | 2429(99.10%) of total  | 0(0.0%)      | [0.028436, 0.049326, 0.032268]             |\n",
      "| right_ankleX    | float64 | numerical Data   | 2415(98.53%) of total  | 0(0.0%)      | [890.04, 619.03, 461.83]                   |\n",
      "| right_ankleY    | float64 | numerical Data   | 2374(96.86%) of total  | 0(0.0%)      | [346.63, 383.72, 364.84]                   |\n",
      "| right_ankleZ    | float64 | numerical Data   | 2422(98.82%) of total  | 0(0.0%)      | [0.1296, 0.46164, 0.068062]                |\n",
      "| bb_x1           | float64 | numerical Data   | 2403(98.04%) of total  | 0(0.0%)      | [464.07, 696.95, 313.04]                   |\n",
      "| bb_y1           | float64 | numerical Data   | 2360(96.29%) of total  | 0(0.0%)      | [211.12, 179.94, 212.24]                   |\n",
      "| bb_x2           | float64 | numerical Data   | 2409(98.29%) of total  | 0(0.0%)      | [877.18, 399.41, 516.76]                   |\n",
      "| bb_y2           | float64 | numerical Data   | 2367(96.57%) of total  | 0(0.0%)      | [456.22, 555.86, 385.18]                   |\n",
      "| bb_score        | float64 | numerical Data   | 2079(84.82%) of total  | 0(0.0%)      | [0.98521, 0.99938, 0.96994]                |\n",
      "+-----------------+---------+------------------+------------------------+--------------+--------------------------------------------+\n",
      "No columns with numeric data were detected.\n"
     ]
    },
    {
     "data": {
      "image/png": "[encoded data removed]",
      "text/plain": [
       "<Figure size 1500x500 with 1 Axes>"
      ]
     },
     "metadata": {},
     "output_type": "display_data"
    },
    {
     "name": "stdout",
     "output_type": "stream",
     "text": [
      "Other features:  []\n"
     ]
    }
   ],
   "source": [
    "from FeatureInsight import struct_Investigation,univar_dis,bivar_dis\n",
    "df=pd.read_csv('C:\\Datasets\\labels_and_features_TRAIN.csv')\n",
    "df['gaze']\n",
    "summary=struct_Investigation(df)\n",
    "summary.print()\n",
    "univar_dis(df,[\"gaze\"],mode=\"pie\")"
   ]
  },
  {
   "cell_type": "markdown",
   "id": "76f70e74-954d-46d1-850a-9374c6032e0d",
   "metadata": {},
   "source": [
    "# Config"
   ]
  },
  {
   "cell_type": "code",
   "execution_count": 1,
   "id": "02224d3d-9391-42a9-9724-4601a232570b",
   "metadata": {},
   "outputs": [],
   "source": [
    "import os\n",
    "import pandas as pd\n",
    "import torch\n",
    "from torch.utils.data import Dataset, DataLoader\n",
    "from torchvision import models, transforms\n",
    "from PIL import Image\n",
    "import torch.optim as optim\n",
    "import torch.nn as nn\n",
    "from tqdm import tqdm\n",
    "\n",
    "batch=32\n",
    "data_path = \"C:\\Datasets\\Talis_frames15_v2\"  # Provide your data path here\n",
    "criterion = nn.CrossEntropyLoss()\n",
    "validate_epochs = 1  # Example: validate every epoch\n",
    "save_epochs = 2     # Example: save the model every 2 epochs\n",
    "ckpt_dir = \"C:\\Datasets\\checkpoints\"\n",
    "transform = transforms.Compose([\n",
    "    transforms.Resize((224, 224)),\n",
    "    transforms.ToTensor(),\n",
    "    transforms.Normalize(mean=[0.485, 0.456, 0.406], std=[0.229, 0.224, 0.225])\n",
    "])"
   ]
  },
  {
   "cell_type": "markdown",
   "id": "f6206ac1-96d2-4c9b-8dc2-fc87bbbef672",
   "metadata": {},
   "source": [
    "# Make Data Loader"
   ]
  },
  {
   "cell_type": "code",
   "execution_count": 2,
   "id": "3198b8b4-0c68-4302-9dfc-ed1eca03af85",
   "metadata": {},
   "outputs": [],
   "source": [
    "\n",
    "class GazeDataset(Dataset):\n",
    "    def __init__(self, csv_file, data_path, transform=None):\n",
    "        \"\"\"\n",
    "        Args:\n",
    "            csv_file (string): Path to the csv file.\n",
    "            data_path (string): Directory with all the images.\n",
    "            transform (callable, optional): Optional transform to be applied on an image.\n",
    "        \"\"\"\n",
    "        self.data_frame = pd.read_csv(csv_file)\n",
    "        self.data_path = data_path\n",
    "        self.transform = transform\n",
    "\n",
    "    def __len__(self):\n",
    "        return len(self.data_frame)\n",
    "\n",
    "    def __getitem__(self, idx):\n",
    "        img_name = os.path.join(self.data_path, self.data_frame['imgID'][idx])  # Assuming imgID is in the first column\n",
    "        image = Image.open(img_name)\n",
    "        \n",
    "        gaze = self.data_frame['gaze'][idx]  # Assuming gaze is in the second column\n",
    "        gaze = torch.tensor(gaze, dtype=torch.float32)\n",
    "        \n",
    "        if self.transform:\n",
    "            image = self.transform(image)\n",
    "            \n",
    "        one_hot_gaze = torch.zeros(4)\n",
    "        one_hot_gaze[int(gaze)-1] = 1\n",
    "        return image, one_hot_gaze\n",
    "\n",
    "# Create datasets\n",
    "\n",
    "train_dataset = GazeDataset(csv_file='C:\\Datasets\\labels_and_features_TRAIN.csv', data_path=data_path, transform=transform)\n",
    "valid_dataset = GazeDataset(csv_file='C:\\Datasets\\labels_and_features_VAL.csv', data_path=data_path, transform=transform)\n",
    "\n",
    "# Create dataloaders\n",
    "train_loader = DataLoader(train_dataset, batch_size=batch, shuffle=True, num_workers=4)\n",
    "valid_loader = DataLoader(valid_dataset, batch_size=batch, shuffle=False, num_workers=4)\n",
    "\n"
   ]
  },
  {
   "cell_type": "code",
   "execution_count": null,
   "id": "ec59b46b-ff1c-4783-b801-859ae37c27a8",
   "metadata": {},
   "outputs": [],
   "source": []
  },
  {
   "cell_type": "code",
   "execution_count": 3,
   "id": "e41861da-940a-4fb9-bbba-7cc9d1f72725",
   "metadata": {},
   "outputs": [
    {
     "ename": "NameError",
     "evalue": "name 'ResNet18_Weights' is not defined",
     "output_type": "error",
     "traceback": [
      "\u001b[1;31m---------------------------------------------------------------------------\u001b[0m",
      "\u001b[1;31mNameError\u001b[0m                                 Traceback (most recent call last)",
      "Cell \u001b[1;32mIn[3], line 2\u001b[0m\n\u001b[0;32m      1\u001b[0m \u001b[38;5;66;03m# Load a pre-trained ResNet-18 model and modify the final layer\u001b[39;00m\n\u001b[1;32m----> 2\u001b[0m model \u001b[38;5;241m=\u001b[39m models\u001b[38;5;241m.\u001b[39mresnet18(weights\u001b[38;5;241m=\u001b[39m\u001b[43mResNet18_Weights\u001b[49m\u001b[38;5;241m.\u001b[39mDEFAULT)\n\u001b[0;32m      3\u001b[0m model\u001b[38;5;241m.\u001b[39mfc \u001b[38;5;241m=\u001b[39m nn\u001b[38;5;241m.\u001b[39mLinear(model\u001b[38;5;241m.\u001b[39mfc\u001b[38;5;241m.\u001b[39min_features, \u001b[38;5;241m4\u001b[39m)\n\u001b[0;32m      4\u001b[0m device \u001b[38;5;241m=\u001b[39m torch\u001b[38;5;241m.\u001b[39mdevice(\u001b[38;5;124m\"\u001b[39m\u001b[38;5;124mcuda:0\u001b[39m\u001b[38;5;124m\"\u001b[39m \u001b[38;5;28;01mif\u001b[39;00m torch\u001b[38;5;241m.\u001b[39mcuda\u001b[38;5;241m.\u001b[39mis_available() \u001b[38;5;28;01melse\u001b[39;00m \u001b[38;5;124m\"\u001b[39m\u001b[38;5;124mcpu\u001b[39m\u001b[38;5;124m\"\u001b[39m)\n",
      "\u001b[1;31mNameError\u001b[0m: name 'ResNet18_Weights' is not defined"
     ]
    }
   ],
   "source": [
    "# Load a pre-trained ResNet-18 model and modify the final layer\n",
    "model = models.resnet18(weights=\"ResNet18_Weights.DEFAULT\")\n",
    "model.fc = nn.Linear(model.fc.in_features, 4)\n",
    "device = torch.device(\"cuda:0\" if torch.cuda.is_available() else \"cpu\")\n",
    "model.to(device)\n",
    "optimizer = optim.Adam(model.parameters(), lr=0.001) \n",
    "if not os.path.exists(ckpt_dir):\n",
    "    os.makedirs(ckpt_dir)\n",
    "\n",
    "# Training loop\n",
    "num_epochs = 10  # Define your desired number of epochs\n",
    "for epoch in range(num_epochs):\n",
    "    model.train()\n",
    "    running_loss = 0.0\n",
    "    for images, gazes in tqdm(train_loader):\n",
    "        images, gazes = images.to(device), torch.argmax(gazes, dim=1).to(device)  # Convert one-hot to class index\n",
    "\n",
    "        optimizer.zero_grad()\n",
    "\n",
    "        outputs = model(images)\n",
    "        loss = criterion(outputs, gazes)\n",
    "        loss.backward()\n",
    "        optimizer.step()\n",
    "\n",
    "        running_loss += loss.item()\n",
    "\n",
    "    print(f\"Epoch [{epoch+1}/{num_epochs}], Loss: {running_loss/len(train_loader)}\")\n",
    "\n",
    "    # Save checkpoint\n",
    "    if (epoch + 1) % save_epochs == 0:\n",
    "        torch.save(model.state_dict(), os.path.join(ckpt_dir, f\"epoch_{epoch+1}.ckpt\"))\n",
    "\n",
    "    # Validation loop\n",
    "    if (epoch + 1) % validate_epochs == 0:\n",
    "        model.eval()\n",
    "        correct = 0\n",
    "        total = 0\n",
    "        with torch.no_grad():\n",
    "            for images, gazes in valid_loader:\n",
    "                images, gazes = images.to(device), torch.argmax(gazes, dim=1).to(device)  # Convert one-hot to class index\n",
    "\n",
    "                outputs = model(images)\n",
    "                _, predicted = torch.max(outputs.data, 1)\n",
    "                total += gazes.size(0)\n",
    "                correct += (predicted == gazes).sum().item()\n",
    "\n",
    "        print(f\"Validation Accuracy: {100 * correct / total}%\")\n",
    "\n",
    "print(\"Training completed.\")\n"
   ]
  },
  {
   "cell_type": "code",
   "execution_count": null,
   "id": "f85c52b6-ac84-4f03-a08a-4491e055825a",
   "metadata": {},
   "outputs": [],
   "source": []
  }
 ],
 "metadata": {
  "kernelspec": {
   "display_name": "Python 3 (ipykernel)",
   "language": "python",
   "name": "python3"
  },
  "language_info": {
   "codemirror_mode": {
    "name": "ipython",
    "version": 3
   },
   "file_extension": ".py",
   "mimetype": "text/x-python",
   "name": "python",
   "nbconvert_exporter": "python",
   "pygments_lexer": "ipython3",
   "version": "3.10.13"
  }
 },
 "nbformat": 4,
 "nbformat_minor": 5
}

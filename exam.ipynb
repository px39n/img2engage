{
 "cells": [
  {
   "cell_type": "markdown",
   "id": "50cacde8-df75-49de-b33a-ce01e8d8173e",
   "metadata": {},
   "source": [
    "### Do not distribute this notebook outside the PyML course of the winter term 2023/2024"
   ]
  },
  {
   "cell_type": "markdown",
   "id": "d9819b3f-a816-4cc1-bc23-92a41092f037",
   "metadata": {
    "deletable": false,
    "editable": false,
    "nbgrader": {
     "cell_type": "markdown",
     "checksum": "417aafa337ffe9acf44b8c05dcad0fa2",
     "grade": false,
     "grade_id": "cell-46430e6143b142dd",
     "locked": true,
     "schema_version": 3,
     "solution": false,
     "task": false
    }
   },
   "source": [
    "<h1 style=\"text-align: center;\">Python Programming for Machine Learning Exam</h1>\n",
    "<br>\n",
    "<div style=\"text-align:center\">\n",
    "<img src=\"data:image/svg+xml;base64,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\" />\n",
    "</div>\n",
    "<h2 style=\"text-align: center;\">17th of November 2023</h2>\n",
    "\n",
    "## Remarks\n",
    "- You are allowed to bring **one** double-sided handwritten or printed A4 sheet into the exam.\n",
    "- You are only allowed to use built-in libraries or the ones specified in the respective task description.\n",
    "- **Execute every cell in the notebook (even the ones used for grading).** You can try restarting your kernel if something goes wrong.\n",
    "- Do not use your own paper. We can provide you with paper for notes. Write your matriculation number on every paper at the top of the page. We will collect all notes at the end of the exam.\n",
    "- If a task description is ambiguous, any possible correct implementation will receive full points.\n",
    "- Please remove extensive code used for your own testing before submitting the exam.\n",
    "\n",
    "The following functions are not allowed in any task:\n",
    "- `map`\n",
    "- `filter`\n",
    "- `np.vectorize`\n",
    "- `np.fromiter`\n",
    "- `np.fromfunction`\n",
    "- `np.apply_along_axis`\n",
    "- `np.repeat`\n",
    "- `np.tile`\n",
    "\n",
    "### Optional tips and tricks\n",
    "- Use the `help` function to retrieve docstrings of any function, e.g., `help(func)` returns a description of the hypothetical function `func`.\n",
    "- Copy markdown descriptions to minimize scrolling\n",
    "- Use the debugger by importing `from IPython.core.debugger import set_trace` and setting a breakpoint via `set_trace()`. You can use the debugger when executing test cells. **Make sure to quit the debugger before executing other cells by entering the `q` keyword.** Retrieve the debugger documentation by running `import IPython; help(IPython.core.debugger)`.\n",
    "- Prioritize tasks and do not spend disproportionate amount of time on tasks you are struggling with.\n",
    "\n",
    "### Keyboard\n",
    "- A printout of a US keyboard layout without any additional information is allowed.\n",
    "- To switch the keyboard layout, look for the language or layout indicator in the lower-right corner of your Windows taskbar. Click on this symbol, and from the menu that appears, select the desired keyboard layout. We cannot guarantee that this will work.\n",
    "\n",
    "## Please enter your personal details into the Python dictionary below"
   ]
  },
  {
   "cell_type": "code",
   "execution_count": null,
   "id": "4513a739-c483-42c5-9308-6a794091a220",
   "metadata": {},
   "outputs": [],
   "source": [
    "STUDENT_INFO = {\n",
    "  \"Last Name\": \"\",\n",
    "  \"First Names\": \"\",\n",
    "  \"Matriculation Number\": \"\",\n",
    "  \"University\": \"\",\n",
    "    # Specify `standalone` when taking the course not as part of an accompanying module.\n",
    "  \"Accompanying Module\": \"\",  # Choose from {'ML1', 'ML2', 'CA', 'standalone'}\n",
    "}"
   ]
  },
  {
   "cell_type": "markdown",
   "id": "4b41c06c-bd5e-4c92-a7fb-82cee7ace945",
   "metadata": {
    "deletable": false,
    "editable": false,
    "nbgrader": {
     "cell_type": "markdown",
     "checksum": "edef3660f8abcc08f6a66affa0fd79f7",
     "grade": false,
     "grade_id": "cell-7b1761c7e5f82903",
     "locked": true,
     "schema_version": 3,
     "solution": false,
     "task": false
    }
   },
   "source": [
    "Run the following cell to verify your details:"
   ]
  },
  {
   "cell_type": "code",
   "execution_count": null,
   "id": "c2c011f4-0e97-4be1-a9c1-290c8b5b06b1",
   "metadata": {
    "deletable": false,
    "editable": false,
    "nbgrader": {
     "cell_type": "code",
     "checksum": "28ce3432935be4f309b29671b3dae7c3",
     "grade": false,
     "grade_id": "cell-444f33b658c52841",
     "locked": true,
     "schema_version": 3,
     "solution": false,
     "task": false
    }
   },
   "outputs": [],
   "source": [
    "EXPECTED_STUDENT_KEYS = ['Last Name', 'First Names', 'Matriculation Number', 'University', 'Accompanying Module']\n",
    "MISSING_STUDENT_KEYS = [key for key in EXPECTED_STUDENT_KEYS if not STUDENT_INFO.get(key)]\n",
    "if MISSING_STUDENT_KEYS:\n",
    "    raise RuntimeError('You did not specify all required information! Please fill in the following missing keys in the dict above: ' f'{MISSING_STUDENT_KEYS}')\n",
    "else:\n",
    "    print(\"Hello {1} {0}. Your matriculation number is: {2}. You study at {3} and are taking the course {4}\".format(*[STUDENT_INFO[key] for key in EXPECTED_STUDENT_KEYS]))"
   ]
  },
  {
   "cell_type": "code",
   "execution_count": null,
   "id": "063d95c0-99fd-495b-9676-9cf4dc56ed54",
   "metadata": {
    "deletable": false,
    "editable": false,
    "nbgrader": {
     "cell_type": "code",
     "checksum": "15fb7646c69ffd5c361024e704197235",
     "grade": true,
     "grade_id": "cell-d7c8d7c52ec78e2a",
     "locked": true,
     "points": 0,
     "schema_version": 3,
     "solution": false,
     "task": false
    }
   },
   "outputs": [],
   "source": [
    "# This cell is for grading do not remove it\n",
    "from minified import no_imports, no_loops_allowed\n"
   ]
  },
  {
   "cell_type": "markdown",
   "id": "1bbebbf2-12e1-49eb-8f97-7d20ac98e81c",
   "metadata": {
    "deletable": false,
    "editable": false,
    "nbgrader": {
     "cell_type": "markdown",
     "checksum": "a097fa80f6dc86ece124de9eaa2f0063",
     "grade": false,
     "grade_id": "cell-78e47a392ed69e45",
     "locked": true,
     "schema_version": 3,
     "solution": false,
     "task": false
    }
   },
   "source": [
    "<hr>\n",
    "\n",
    "### **The exam starts below. We wish you much success!**"
   ]
  },
  {
   "cell_type": "markdown",
   "id": "8c5f0f1ef24c3f03",
   "metadata": {},
   "source": [
    "<hr>\n",
    "\n",
    "# Exercise 1: Coding Exercises\n",
    "\n",
    "| Module | Allowed |\n",
    "| - | - |\n",
    "| `numpy` | **No** |\n",
    "| `matplotlib` | **No** |\n",
    "\n",
    "In this exercise, you should write code given an explanation and exemplary output.\n",
    "It is insufficient to hard-code your solution to **only** work for the provided examples.\n",
    "We do not evaluate computational efficiency unless explicitly described in the task. \n"
   ]
  },
  {
   "cell_type": "markdown",
   "id": "1befc84c-c2aa-458f-a903-670cb431e47e",
   "metadata": {
    "deletable": false,
    "editable": false,
    "nbgrader": {
     "cell_type": "markdown",
     "checksum": "2c9233771aed214312c6f3798cf3f84b",
     "grade": false,
     "grade_id": "cell-implement-description-3",
     "locked": true,
     "schema_version": 3,
     "solution": false,
     "task": false
    }
   },
   "source": [
    "## Task 1.1 (5 points)\n",
    "\n",
    "Implement a function called `product_of_all_other_numbers`\n",
    "\n",
    "- The **input** of the function is a *list of numbers*.\n",
    "- The function returns a list containing, for each index in the input, the product of all other numbers in the list.\n",
    "- The function should return a list of the same size as the input list.\n",
    "- For example, for the input `[1, 2, 3, 4, 5]`, the function should return `[120, 60, 40, 30, 24]`.\n"
   ]
  },
  {
   "cell_type": "code",
   "execution_count": null,
   "id": "4f4dcd26-300a-462c-b6ce-6b624ca09b39",
   "metadata": {
    "deletable": false,
    "nbgrader": {
     "cell_type": "code",
     "checksum": "62d1c939cb765703f128aca624424eab",
     "grade": false,
     "grade_id": "cell-implement-answer-3",
     "locked": false,
     "schema_version": 3,
     "solution": true,
     "task": false
    }
   },
   "outputs": [],
   "source": [
    "\n",
    "import math\n",
    "\n",
    "def product_of_all_other_numbers(values):\n",
    "    # YOUR CODE HERE\n",
    "    raise NotImplementedError()\n",
    "\n"
   ]
  },
  {
   "cell_type": "code",
   "execution_count": null,
   "id": "7e2a5fa0-f956-4b95-9ac6-84ae9ac5e778",
   "metadata": {
    "deletable": false,
    "editable": false,
    "nbgrader": {
     "cell_type": "code",
     "checksum": "7fc40d3fea5e5a4019f1439c61ad2e62",
     "grade": true,
     "grade_id": "cell-implement-test-3",
     "locked": true,
     "points": 5,
     "schema_version": 3,
     "solution": false,
     "task": false
    }
   },
   "outputs": [],
   "source": [
    "\n",
    "from unittest import TestCase\n",
    "t = TestCase()\n",
    "\n",
    "t.assertEqual(product_of_all_other_numbers([]), [])\n",
    "t.assertEqual(product_of_all_other_numbers([1]), [1])\n",
    "\n",
    "# default product is 1\n",
    "t.assertEqual(product_of_all_other_numbers([5]), [1])\n",
    "\n",
    "t.assertEqual(product_of_all_other_numbers([1, 2, 3, 4, 5]), [120, 60, 40, 30, 24])\n",
    "t.assertEqual(product_of_all_other_numbers([3, 2, 1]), [2, 3, 6])\n",
    "t.assertEqual(product_of_all_other_numbers([1,0,1]), [0,1,0])\n",
    "t.assertEqual(product_of_all_other_numbers([1,1,1]), [1,1,1])\n",
    "t.assertEqual(product_of_all_other_numbers([-4, 4, -4, 4, -4]), [256, -256, 256, -256, 256])\n",
    "t.assertEqual(product_of_all_other_numbers([7, 4, 3, 12, -3]), [-432, -756, -1008, -252, 1008])\n",
    "\n",
    "\n"
   ]
  },
  {
   "cell_type": "markdown",
   "id": "4ca96e34-405d-4f5f-a2da-c2bc1f7f6830",
   "metadata": {
    "deletable": false,
    "editable": false,
    "nbgrader": {
     "cell_type": "markdown",
     "checksum": "6753bfa0b6b46fc57fd19763702730f2",
     "grade": false,
     "grade_id": "cell-implement-description-7",
     "locked": true,
     "schema_version": 3,
     "solution": false,
     "task": false
    }
   },
   "source": [
    "## Task 1.2 (10 points)\n",
    "\n",
    "#### String Encryption\n",
    "\n",
    "Implement the function `lowercase_shift_reverse`:\n",
    "- Given an input string `inp`, reverse each word and shift each lowercase alphabetical character forward by one position, e.g., `a` becomes `b` and `f` turns into `g`. The character `z` is an edge case and shifts to `a`. Digits are not shifted.\n",
    "- A word is defined as a sequence of alphanumerical characters separated by a space. Alphanumerical characters are characters that are a letter or a digit.\n",
    "- You can use the `chr` and `ord` functions for character manipulations.\n",
    "\n",
    "For example, the world `hello` becomes `pmmfi` because:\n",
    "- `h` is shifted by one position to `i`\n",
    "- `e` is shifted by one position to `f`\n",
    "- `l` is shifted by one position to `m`\n",
    "- `l` is shifted by one position to `m`\n",
    "- `o` is shifted by one position to `p`\n",
    "- The word is reversed\n"
   ]
  },
  {
   "cell_type": "code",
   "execution_count": null,
   "id": "ef14ec1f-9930-4b3d-b0a4-0c95272035cd",
   "metadata": {
    "deletable": false,
    "nbgrader": {
     "cell_type": "code",
     "checksum": "be748a9c634112fbb9534b3e938eeb16",
     "grade": false,
     "grade_id": "cell-implement-answer-7",
     "locked": false,
     "schema_version": 3,
     "solution": true,
     "task": false
    }
   },
   "outputs": [],
   "source": [
    "\n",
    "\n",
    "def lowercase_shift_reverse(inp):\n",
    "    \"\"\"\n",
    "    Args:\n",
    "        inp: The lowercase string to be processed.\n",
    "\n",
    "    Returns:\n",
    "        The string with each word reversed and characters shifted.\n",
    "    \"\"\"\n",
    "    # YOUR CODE HERE\n",
    "    raise NotImplementedError()\n",
    "\n",
    "\n"
   ]
  },
  {
   "cell_type": "code",
   "execution_count": null,
   "id": "b315a30c-49bd-4a90-a118-5a8d1669c6a4",
   "metadata": {
    "deletable": false,
    "editable": false,
    "nbgrader": {
     "cell_type": "code",
     "checksum": "fcacbb48b09d6d6ac1656300751a8dd3",
     "grade": true,
     "grade_id": "cell-implement-test-7",
     "locked": true,
     "points": 10,
     "schema_version": 3,
     "solution": false,
     "task": false
    }
   },
   "outputs": [],
   "source": [
    "\n",
    "from unittest import TestCase\n",
    "t = TestCase()\n",
    "\n",
    "# Test empty string\n",
    "t.assertEqual(lowercase_shift_reverse(''), '')\n",
    "\n",
    "# Test single character\n",
    "t.assertEqual(lowercase_shift_reverse('2'), '2')\n",
    "\n",
    "# Test two characters\n",
    "t.assertEqual(lowercase_shift_reverse('ae'), 'fb')\n",
    "\n",
    "# Test two characters with non-alphanumeric character\n",
    "t.assertEqual(lowercase_shift_reverse('ae2'), '2fb')\n",
    "\n",
    "# Test a sentence\n",
    "string = 'hello world here'\n",
    "expected = 'pmmfi emspx fsfi'\n",
    "t.assertEqual(lowercase_shift_reverse(string), expected)\n",
    "\n",
    "\n"
   ]
  },
  {
   "cell_type": "markdown",
   "id": "56296518-bd76-4262-a715-152a117188e7",
   "metadata": {
    "deletable": false,
    "editable": false,
    "nbgrader": {
     "cell_type": "markdown",
     "checksum": "c29b696548c3c8d8cee61cdf771f709b",
     "grade": false,
     "grade_id": "cell-implement-description-8",
     "locked": true,
     "schema_version": 3,
     "solution": false,
     "task": false
    }
   },
   "source": [
    "## Task 1.3 (10 points)\n",
    "\n",
    "#### Adaptive Moving Average\n",
    "\n",
    "For a sequence of data points $\\{x_t\\}_{t=0}^{N}$, the moving average at time $t$ with a specified positive-integer window size $W$, denoted as $f_{t,W}$, is computed by:\n",
    "$$\n",
    "f_{t,W} = \\frac{1}{W} \\sum_{i=t-W+1}^{t} x_i.\n",
    "$$\n",
    "\n",
    "The class `MovingAverageCalculator` calculates the moving average with an *adaptive* window size. This adaptivity is critical for deployment in low-capacity edge devices, where computational resources are limited. The class manages this by adjusting the window size in inverse proportion to the class instance count. The adaptive window size, denoted as $W_{\\text{adj}}$, is an integer defined by:\n",
    "$$\n",
    "W_{\\text{adj}} = \\max\\left(1, \\left\\lfloor \\frac{W}{I} \\right\\rfloor\\right),\n",
    "$$\n",
    "where $I$ represents the number of class instances, and $\\lfloor \\cdot \\rfloor$ denotes the floor function ensuring $W_{\\text{adj}}$ is an integer. The adaptive moving average at time $t$, $f_{t,W_{\\text{adj}}}$, is then calculated as:\n",
    "$$\n",
    "f_{t,W_{\\text{adj}}} = \\frac{1}{W_{\\text{adj}}} \\sum_{i=t-W_{\\text{adj}}+1}^{t} x_i.\n",
    "$$\n",
    "\n",
    "The class instance count is initialized to zero.\n",
    "The `__init__` method should increment the class instance count and initialize a `base_window_size`.\n",
    "The `add_value` method should add a new `value` to the calculator.\n",
    "The `calculate_average` method should return the current moving average and return zero if no values have been added to the calculator.\n",
    "\n",
    "Due to the stateful nature of this task, you must run the cell defining the class every time before running the test cell.\n",
    "\n"
   ]
  },
  {
   "cell_type": "code",
   "execution_count": null,
   "id": "c6c140c2-6782-4faa-8ad9-22ffdcd7771d",
   "metadata": {
    "deletable": false,
    "nbgrader": {
     "cell_type": "code",
     "checksum": "e2442f9d0ceebb65352ac90411070f90",
     "grade": false,
     "grade_id": "cell-implement-answer-8",
     "locked": false,
     "schema_version": 3,
     "solution": true,
     "task": false
    }
   },
   "outputs": [],
   "source": [
    "\n",
    "class MovingAverageCalculator:\n",
    "    # YOUR CODE HERE\n",
    "    raise NotImplementedError()\n",
    "\n",
    "\n"
   ]
  },
  {
   "cell_type": "code",
   "execution_count": null,
   "id": "d24cea43-73ee-4d66-951c-a0588f685265",
   "metadata": {
    "deletable": false,
    "editable": false,
    "nbgrader": {
     "cell_type": "code",
     "checksum": "d93951227f20821360640b51417305e7",
     "grade": true,
     "grade_id": "cell-implement-test-8",
     "locked": true,
     "points": 10,
     "schema_version": 3,
     "solution": false,
     "task": false
    }
   },
   "outputs": [],
   "source": [
    "\n",
    "calculator1 = MovingAverageCalculator(base_window_size=2)\n",
    "\n",
    "for value in [1, 2, 3, 4, 5]:\n",
    "    calculator1.add_value(value)\n",
    "    assert calculator1.calculate_average() == sum(range(max(1, value - 1), value + 1)) / min(value, 2)\n",
    "\n",
    "# we add a second instance of the class with window size 3\n",
    "# however, since the instance count is 2, the window size is adjusted to 1.5 -> 1\n",
    "# so in this case the moving average is just the last value\n",
    "calculator2 = MovingAverageCalculator(base_window_size=3)\n",
    "\n",
    "for value in [1, 2, 3, 4, 5]:\n",
    "    calculator2.add_value(value)\n",
    "    assert calculator2.calculate_average() == value\n",
    "\n",
    "\n"
   ]
  },
  {
   "cell_type": "markdown",
   "id": "1d1581be4894f9b7",
   "metadata": {},
   "source": [
    "<hr>\n",
    "\n",
    "# Exercise 2: Numpy Acceleration\n",
    "\n",
    "| Module | Allowed |\n",
    "| - | - |\n",
    "| `numpy` | **Yes** |\n",
    "| `matplotlib` | **No** |\n",
    "\n",
    "**Implement** the numpy-accelerated counterparts of the functions `slow`, which produce the same output but run much faster.\n",
    "Your implementation **cannot contain any Python loops**, list-comprehensions, and functions similar to `numpy.vectorize`.\n",
    "Your implementation must be compute- and memory-efficient.\n"
   ]
  },
  {
   "cell_type": "markdown",
   "id": "9cc00699-971e-4084-a2b9-5a784a0807bd",
   "metadata": {
    "deletable": false,
    "editable": false,
    "nbgrader": {
     "cell_type": "markdown",
     "checksum": "37ce90722c335c3252f99ca6a7e0ccb5",
     "grade": false,
     "grade_id": "cell-optimize-description-2",
     "locked": true,
     "schema_version": 3,
     "solution": false,
     "task": false
    }
   },
   "source": [
    "## Task 2.1 (10 points)\n"
   ]
  },
  {
   "cell_type": "code",
   "execution_count": null,
   "id": "b11c7695-0201-428f-97f6-6b4557988884",
   "metadata": {
    "deletable": false,
    "editable": false,
    "nbgrader": {
     "cell_type": "code",
     "checksum": "4ac4201ec6b64f710604499432a38ced",
     "grade": false,
     "grade_id": "cell-optimize-slow-2",
     "locked": true,
     "schema_version": 3,
     "solution": false,
     "task": false
    }
   },
   "outputs": [],
   "source": [
    "\n",
    "def slow1(points, reference, distance):\n",
    "    result = []\n",
    "    for i, point in enumerate(points):\n",
    "        manhattan_dist = sum(abs(p - r) for p, r in zip(point, reference))\n",
    "        if manhattan_dist <= distance and point[0] % 4 == 0:\n",
    "            result.append(i)\n",
    "    return result\n",
    "\n"
   ]
  },
  {
   "cell_type": "code",
   "execution_count": null,
   "id": "0e6f4457-8f8c-49f4-b54a-4fd24f2a99c0",
   "metadata": {
    "deletable": false,
    "nbgrader": {
     "cell_type": "code",
     "checksum": "a7b8a3112395c8ae33899cbcb9d9b236",
     "grade": false,
     "grade_id": "cell-optimize-answer-2",
     "locked": false,
     "schema_version": 3,
     "solution": true,
     "task": false
    }
   },
   "outputs": [],
   "source": [
    "\n",
    "import numpy as np\n",
    "\n",
    "@no_imports\n",
    "@no_loops_allowed\n",
    "def fast1(points, reference, distance):\n",
    "    # YOUR CODE HERE\n",
    "    raise NotImplementedError()\n",
    "\n"
   ]
  },
  {
   "cell_type": "code",
   "execution_count": null,
   "id": "371b11f8-7f2d-4e21-a61d-8d115cf317d2",
   "metadata": {
    "deletable": false,
    "editable": false,
    "nbgrader": {
     "cell_type": "code",
     "checksum": "466ed379f339806726c25b79875d3f35",
     "grade": true,
     "grade_id": "cell-optimize-test-2",
     "locked": true,
     "points": 10,
     "schema_version": 3,
     "solution": false,
     "task": false
    }
   },
   "outputs": [],
   "source": [
    "\n",
    "import numpy as np\n",
    "points = np.array([[4, 5], [8, 1], [12, 3], [6, 9], [3, 3]])\n",
    "reference = np.array([5, 5])\n",
    "distance = 10\n",
    "\n",
    "slow_result = np.array(slow1(points, reference, distance))\n",
    "fast_result = fast1(points, reference, distance)\n",
    "print('\\nslow\\n', slow_result)\n",
    "print('\\nfast\\n', fast_result)\n",
    "\n",
    "np.testing.assert_array_equal(slow_result, fast_result)\n",
    "\n",
    "for _ in range(1000):\n",
    "    points = np.random.randint(0, 100, size=(100, 2))\n",
    "    reference = np.random.randint(0, 100, size=(2,))\n",
    "    radius = np.random.randint(1, 100)\n",
    "\n",
    "    np.testing.assert_array_equal(slow1(points, reference, radius), fast1(points, reference, radius))\n",
    "\n",
    "fast1.assert_no_imports()\n",
    "fast1.assert_not_too_many_loops()\n",
    "\n",
    "\n"
   ]
  },
  {
   "cell_type": "markdown",
   "id": "d739b314-99c5-454c-86f0-c07bd6a02767",
   "metadata": {
    "deletable": false,
    "editable": false,
    "nbgrader": {
     "cell_type": "markdown",
     "checksum": "33ffa61197b1440f87b9ed6f508ebc43",
     "grade": false,
     "grade_id": "cell-optimize-description-3",
     "locked": true,
     "schema_version": 3,
     "solution": false,
     "task": false
    }
   },
   "source": [
    "## Task 2.2 (10 points)\n"
   ]
  },
  {
   "cell_type": "code",
   "execution_count": null,
   "id": "b5b8864e-c491-4de9-bf54-023505d2f54e",
   "metadata": {
    "deletable": false,
    "editable": false,
    "nbgrader": {
     "cell_type": "code",
     "checksum": "5f872600bc6791ea65cc056c7a8d3aa0",
     "grade": false,
     "grade_id": "cell-optimize-slow-3",
     "locked": true,
     "schema_version": 3,
     "solution": false,
     "task": false
    }
   },
   "outputs": [],
   "source": [
    "\n",
    "def slow2(x):\n",
    "    out = []\n",
    "    N, M = x.shape\n",
    "    for n in range(N):\n",
    "        res = []\n",
    "        for i in range(1, M + 1):\n",
    "            s = 0\n",
    "            for j, v in enumerate(x[n, :i]):\n",
    "                weight = j + 1\n",
    "                s += v * weight\n",
    "            res.append(s)\n",
    "        out.append(res)\n",
    "    return out\n",
    "\n",
    "\n"
   ]
  },
  {
   "cell_type": "code",
   "execution_count": null,
   "id": "11da60db-bf71-490a-9d1c-26a71cf31dda",
   "metadata": {
    "deletable": false,
    "nbgrader": {
     "cell_type": "code",
     "checksum": "f24002307f42b4e9d0adca5df906d240",
     "grade": false,
     "grade_id": "cell-optimize-answer-3",
     "locked": false,
     "schema_version": 3,
     "solution": true,
     "task": false
    }
   },
   "outputs": [],
   "source": [
    "\n",
    "import numpy as np\n",
    "\n",
    "@no_imports\n",
    "@no_loops_allowed\n",
    "def fast2(x):\n",
    "    # YOUR CODE HERE\n",
    "    raise NotImplementedError()\n",
    "\n"
   ]
  },
  {
   "cell_type": "code",
   "execution_count": null,
   "id": "037d2210-42e3-4362-a0af-5cc951267dff",
   "metadata": {
    "deletable": false,
    "editable": false,
    "nbgrader": {
     "cell_type": "code",
     "checksum": "470c9313dea42d58ae29a9c5a1c2c8d5",
     "grade": true,
     "grade_id": "cell-optimize-test-3",
     "locked": true,
     "points": 10,
     "schema_version": 3,
     "solution": false,
     "task": false
    }
   },
   "outputs": [],
   "source": [
    "\n",
    "import numpy as np\n",
    "x = np.arange(1, 10).reshape(3, 3)\n",
    "\n",
    "slow_result = np.array(slow2(x))\n",
    "fast_result = fast2(x)\n",
    "\n",
    "print('\\nx\\n', x)\n",
    "print('\\nslow\\n', slow_result)\n",
    "print('\\nfast\\n', fast_result)\n",
    "\n",
    "np.testing.assert_array_equal(slow_result, fast_result)\n",
    "\n",
    "for _ in range(1000):\n",
    "    x = np.random.randint(0, 100, size=(10, 10))\n",
    "    np.testing.assert_array_equal(slow2(x), fast2(x))\n",
    "\n",
    "fast2.assert_no_imports()\n",
    "fast2.assert_not_too_many_loops()\n",
    "\n",
    "\n"
   ]
  },
  {
   "cell_type": "markdown",
   "id": "90e86e45-6061-44dc-bf90-a54b40b7f53e",
   "metadata": {
    "deletable": false,
    "editable": false,
    "nbgrader": {
     "cell_type": "markdown",
     "checksum": "2a85eea466ac281d1e09de5703dc815d",
     "grade": false,
     "grade_id": "cell-optimize-description-6",
     "locked": true,
     "schema_version": 3,
     "solution": false,
     "task": false
    }
   },
   "source": [
    "## Task 2.3 (10 points)\n"
   ]
  },
  {
   "cell_type": "code",
   "execution_count": null,
   "id": "3065f5db-920d-4158-94f3-2d5d1a5e7121",
   "metadata": {
    "deletable": false,
    "editable": false,
    "nbgrader": {
     "cell_type": "code",
     "checksum": "4d6d5fded5d4bd428c669d3366e91e3d",
     "grade": false,
     "grade_id": "cell-optimize-slow-6",
     "locked": true,
     "schema_version": 3,
     "solution": false,
     "task": false
    }
   },
   "outputs": [],
   "source": [
    "\n",
    "from math import exp\n",
    "def slow3(X):\n",
    "    assert X.ndim == 2\n",
    "    N, M = X.shape\n",
    "\n",
    "    out = [[0 for _ in range(N)] for _ in range(N)]\n",
    "    for i in range(N):\n",
    "        for j in range(N):\n",
    "            for k in range(M):\n",
    "                out[i][j] += (X[i, k] - X[j, k]) ** 2\n",
    "            out[i][j] **= .5\n",
    "            out[i][j] /= 2\n",
    "            out[i][j] = - exp(out[i][j])\n",
    "    return out\n",
    "\n"
   ]
  },
  {
   "cell_type": "code",
   "execution_count": null,
   "id": "122c08e2-58a3-40a7-968c-324afe3f2fb7",
   "metadata": {
    "deletable": false,
    "nbgrader": {
     "cell_type": "code",
     "checksum": "099bb192e602c5b768fbfffff50c21a8",
     "grade": false,
     "grade_id": "cell-optimize-answer-6",
     "locked": false,
     "schema_version": 3,
     "solution": true,
     "task": false
    }
   },
   "outputs": [],
   "source": [
    "\n",
    "import numpy as np\n",
    "\n",
    "@no_imports\n",
    "@no_loops_allowed\n",
    "def fast3(X):\n",
    "    # YOUR CODE HERE\n",
    "    raise NotImplementedError()\n",
    "\n"
   ]
  },
  {
   "cell_type": "code",
   "execution_count": null,
   "id": "c3b26bb9-8e51-486f-b8fa-d99f7005db32",
   "metadata": {
    "deletable": false,
    "editable": false,
    "nbgrader": {
     "cell_type": "code",
     "checksum": "678cbb768f6270937adff9ed7caca8ad",
     "grade": true,
     "grade_id": "cell-optimize-test-6",
     "locked": true,
     "points": 10,
     "schema_version": 3,
     "solution": false,
     "task": false
    }
   },
   "outputs": [],
   "source": [
    "\n",
    "import numpy as np\n",
    "\n",
    "for i in range(100):\n",
    "    rng = np.random.RandomState(i)\n",
    "    X = rng.randn(100, 10)\n",
    "    np.testing.assert_allclose(slow3(X), fast3(X))\n",
    "\n",
    "fast3.assert_no_imports()\n",
    "fast3.assert_not_too_many_loops()\n",
    "\n",
    "\n",
    "\n"
   ]
  },
  {
   "cell_type": "markdown",
   "id": "b980a51f-80fe-4ca6-b632-d21479c1241c",
   "metadata": {
    "deletable": false,
    "editable": false,
    "nbgrader": {
     "cell_type": "markdown",
     "checksum": "037a3c61ee565215461fb26b58a504d4",
     "grade": false,
     "grade_id": "cell-puzzle-description0-party",
     "locked": true,
     "schema_version": 3,
     "solution": false,
     "task": false
    }
   },
   "source": [
    "\n",
    "<hr>\n",
    "\n",
    "# Exercise 3: Data Science Pipeline\n",
    "\n",
    "| Module | Allowed |\n",
    "| - | - |\n",
    "| `numpy` | **Yes** |\n",
    "| `matplotlib` | **Yes** |\n",
    "\n",
    "You have access to a dataset with the following columns:\n",
    "\n",
    "| Column Name | Description | Datatype | Value Bounds |\n",
    "| - | - | - | - |\n",
    "| `start_time` | The starting time of the party in hours. | float | `0 <= start_time < 24` |\n",
    "| `location_x` | The horizontal coordinate of the party's location. | float | `0 <= location_x < 20` |\n",
    "| `location_y` | The vertical coordinate of the party's location. | float | `0 <= location_y < 20` |\n",
    "| `number_of_participants` | The number of participants in the party. | integer | `0 < number_of_participants <= 100` |\n",
    "| `fun_level` | The fun level of the party (as rated by the participants). | float | `1 <= fun_level <= 10` |\n",
    "\n",
    "You can solve each task below independently, where the tests automatically use the correct input – even if you have incorrectly implemented a preceding task. For example, the tests for the tasks 3.3 to 3.5 load the correct data – even if you made a mistake in the dataloading task. You can optionally copy/paste the above markdown table to another location in this notebook to minimize scrolling.\n"
   ]
  },
  {
   "cell_type": "markdown",
   "id": "1be27144-9efa-4a6c-a50b-b313cef26dfa",
   "metadata": {
    "deletable": false,
    "editable": false,
    "nbgrader": {
     "cell_type": "markdown",
     "checksum": "9d16703f20c1c682195f9750053076dc",
     "grade": false,
     "grade_id": "cell-puzzle-description-1",
     "locked": true,
     "schema_version": 3,
     "solution": false,
     "task": false
    }
   },
   "source": [
    "## Task 3.1 (7.5 points)\n",
    "\n",
    "### Loading the data\n",
    "\n",
    "Implement the function `load_file`:\n",
    "\n",
    "- The **input** of the function is a *filename* represented by a *string*.\n",
    "- The function **returns** a *list of tuples/lists*. Each of the iterables in the outer list contains **five** numbers of the correct datatype representing the **columns** of the dataset.\n",
    "- The **first line** of the file contains the **names** of the columns and should be **ignored**. Furthermore, ignore lines with **missing values** (if existent).\n",
    "\n",
    "The columns in the file are ordered by their appearance in the above table.\n",
    "For example, the `location_x` value is missing in the below exemplary line as the two consecutive single commas indicate. Therefore, the entire line should be ignored.\n",
    "```csv\n",
    "23.1,,12.1,5,8.2\n",
    "```\n"
   ]
  },
  {
   "cell_type": "code",
   "execution_count": null,
   "id": "a1d34b14-416a-44cd-88d5-ff12f5b551a1",
   "metadata": {
    "deletable": false,
    "nbgrader": {
     "cell_type": "code",
     "checksum": "b8cefd9974f7e8e88f24bd3b0caaf601",
     "grade": false,
     "grade_id": "cell-puzzle-answer-1",
     "locked": false,
     "schema_version": 3,
     "solution": true,
     "task": false
    }
   },
   "outputs": [],
   "source": [
    "\n",
    "def load_file(filename):\n",
    "    # YOUR CODE HERE\n",
    "    raise NotImplementedError()\n"
   ]
  },
  {
   "cell_type": "code",
   "execution_count": null,
   "id": "c6e449b7-01d3-46b2-a8d7-6a728ef492f4",
   "metadata": {
    "deletable": false,
    "editable": false,
    "nbgrader": {
     "cell_type": "code",
     "checksum": "90dc4e9d83cdbc58c0c651a1cd26aa0c",
     "grade": true,
     "grade_id": "cell-puzzle-test-1",
     "locked": true,
     "points": 7.5,
     "schema_version": 3,
     "solution": false,
     "task": false
    }
   },
   "outputs": [],
   "source": [
    "\n",
    "import numpy as np\n",
    "\n",
    "tiny_sting_file = '''\n",
    "21.0,24.1,21.3,45,6.9\n",
    "1.2,42.0,,88,10.0\n",
    "'''\n",
    "from pathlib import Path\n",
    "\n",
    "tiny_data_path = Path('tiny_data.csv')\n",
    "tiny_data_path.write_text(tiny_sting_file)\n",
    "\n",
    "try:\n",
    "    data = load_file(str(tiny_data_path))\n",
    "finally:\n",
    "    tiny_data_path.unlink()\n",
    "print(data)\n",
    "expected = [[21.0, 24.1, 21.3, 45, 6.9]]\n",
    "\n",
    "np.testing.assert_array_equal(data, expected)\n",
    "\n",
    "\n",
    "data = load_file('data.csv')\n",
    "print(data)\n",
    "expected = [[20.3, 12.5, 7.7, 45, 6.9], [23.1, 7.7, 15.8, 88, 10.0], [20.9, 19.6, 16.0, 70, 8.34], [3.4, 18.9, 10.4, 30, 8.64], [9.3, 18.1, 9.0, 1, 3.51], [16.7, 1.2, 13.3, 32, 4.73], [15.7, 12.7, 19.9, 69, 9.54], [3.8, 2.2, 13.1, 53, 2.2], [7.1, 2.4, 6.4, 44, 2.54], [20.8, 10.2, 18.3, 36, 9.95], [22.3, 6.4, 13.3, 59, 5.34], [16.3, 5.4, 14.7, 78, 2.53], [21.5, 12.8, 17.8, 14, 4.46], [20.3, 14.0, 5.9, 62, 7.07]]\n",
    "\n",
    "np.testing.assert_array_almost_equal(data, expected)\n",
    "\n",
    "\n"
   ]
  },
  {
   "cell_type": "markdown",
   "id": "21d6a2cf-0123-499d-bf26-99ddea8fbcf1",
   "metadata": {
    "deletable": false,
    "editable": false,
    "nbgrader": {
     "cell_type": "markdown",
     "checksum": "283b2e5416fb7428defceb63f125b7cf",
     "grade": false,
     "grade_id": "cell-puzzle-description-2",
     "locked": true,
     "schema_version": 3,
     "solution": false,
     "task": false
    }
   },
   "source": [
    "## Task 3.2 (10 points)\n",
    "\n",
    "### Cleaning the data\n",
    "\n",
    "Implement the function `clean_data`:\n",
    "\n",
    "- The **input** of the function is a numpy array returned by the `load_file` function. The function **returns** a new array.\n",
    "- The function cleans the data with respect to the values' validity as defined in each column's **value bounds**.\n",
    "    - For all **columns other than `start_time`**, do not consider lines containing invalid data.\n",
    "    - For the **`start_time` column**, if a respective value is not within valid bounds, handle the value as if counted before/beyond midnight and convert it to its true time value. Examples: The value `23` corresponds to `23` (no change), the value `24` corresponds to `0` (midnight), the value `25` corresponds to `1` (1 AM; one hour after midnight), and the value `-1` corresponds to `23` (one hour before midnight).\n",
    "\n",
    "There are two possible approaches to solving this exercise:\n",
    "1. Use a `for` loop to iterate over the dataset and handle invalid entries. **(80% points)**\n",
    "2. Use more efficient numpy operations to remove/convert the invalid entries. **(100% points)**\n",
    "\n",
    "**Approach 2** is considerably more efficient and should be preferred in a real-world setting.\n",
    "\n",
    "<div style=\"font-weight: bold; color:#c11;\">\n",
    "Using any kind of python-loop will only grant you a maximum of 80% of the total points if otherwise solved correctly.\n",
    "</div>\n"
   ]
  },
  {
   "cell_type": "code",
   "execution_count": null,
   "id": "d44a6357-b22e-4aa8-bfac-21ea0c11df78",
   "metadata": {
    "deletable": false,
    "nbgrader": {
     "cell_type": "code",
     "checksum": "5eea19e96e61578019e9cf1199ae30c2",
     "grade": false,
     "grade_id": "cell-puzzle-answer-2",
     "locked": false,
     "schema_version": 3,
     "solution": true,
     "task": false
    }
   },
   "outputs": [],
   "source": [
    "\n",
    "def clean_data(data):\n",
    "    assert data.ndim == 2\n",
    "    # YOUR CODE HERE\n",
    "    raise NotImplementedError()\n",
    "\n"
   ]
  },
  {
   "cell_type": "code",
   "execution_count": null,
   "id": "456491bd-6667-46ad-bc57-c383571d56f5",
   "metadata": {
    "deletable": false,
    "editable": false,
    "nbgrader": {
     "cell_type": "code",
     "checksum": "64ea1acf550e38f101c747459c493d6c",
     "grade": true,
     "grade_id": "cell-puzzle-test-2",
     "locked": true,
     "points": 10,
     "schema_version": 3,
     "solution": false,
     "task": false
    }
   },
   "outputs": [],
   "source": [
    "\n",
    "import numpy as np\n",
    "from minified import DATA, CLEANED_DATA\n",
    "\n",
    "mini_data = np.array([\n",
    "    [2.3, 2.4, 2.5, 34, 1.2], # keep\n",
    "    [25.4, 2.4, 2.5, 34, 1.2], # keep, but shift first column 1.4\n",
    "    [-1.4, 2.4, 2.5, 34, 1.2], # keep, but shift first column 22.6\n",
    "    [2.3, 22.4, 2.5, 34, 1.2], # remove location_x too large\n",
    "    [2.3, 2.4, -1.5, 34, 1.2], # remove location_y too small\n",
    "    [2.3, 2.4, 2.5, -10, 1.2], # remove number_of_participants too small\n",
    "    [2.3, 2.4, 2.5, 110, 1.2], # remove number_of_participants too large\n",
    "    [2.3, 2.4, 2.5, 34, 11.2], # remove fun_level too large\n",
    "    [2.3, 2.4, 2.5, 34, 0.2], # remove fun_level too small\n",
    "    [-1.2, -22.1, 45.1, 0, -0.2] # remove all invalid (apart from first column)\n",
    "])\n",
    "\n",
    "cleaned_data = clean_data(mini_data)\n",
    "\n",
    "np.testing.assert_array_almost_equal(cleaned_data, np.array([[2.3, 2.4, 2.5, 34, 1.2],[1.4, 2.4, 2.5, 34, 1.2], [22.6, 2.4, 2.5, 34, 1.2]]))\n",
    "\n",
    "\n",
    "cleaned_data = clean_data(np.array(DATA))\n",
    "\n",
    "np.testing.assert_almost_equal(cleaned_data, CLEANED_DATA)\n",
    "\n",
    "\n",
    "try:\n",
    "    no_loops_allowed(clean_data).assert_not_too_many_loops()\n",
    "except AssertionError:\n",
    "    print(\"You are using a loop in your solution. You will only receive 80% of the points for this exercise.\")\n",
    "\n",
    "\n",
    "\n"
   ]
  },
  {
   "cell_type": "markdown",
   "id": "284cec3c-f62f-4fb3-b320-cbfc33555c3e",
   "metadata": {
    "deletable": false,
    "editable": false,
    "nbgrader": {
     "cell_type": "markdown",
     "checksum": "24cea9c041f5dff286594b43cd0a0a1c",
     "grade": false,
     "grade_id": "cell-puzzle-description-3",
     "locked": true,
     "schema_version": 3,
     "solution": false,
     "task": false
    }
   },
   "source": [
    "## Task 3.3 (7.5 points)\n",
    "\n",
    "#### Find the location with the highest number of parties\n",
    "\n",
    "Implement the function `get_location_with_most_parties`:\n",
    "\n",
    "- The **input** is a numpy array returned by the function `load_data`.\n",
    "- The function should **return** a **tuple** containing the **x and y** coordinates with the **highest number of parties**.\n",
    "- If there are multiple of such locations, **return** the one with the *lowest* **x coordinate**. If this again results in multiple locations, **return** the location with the *lowest* **y coordinate**.\n",
    "\n",
    "The solution should be efficient in terms of computation.\n"
   ]
  },
  {
   "cell_type": "code",
   "execution_count": null,
   "id": "659749dd-7e0c-437f-a34c-94ead0ca619a",
   "metadata": {
    "deletable": false,
    "nbgrader": {
     "cell_type": "code",
     "checksum": "c866409e2ecfc06642bdaaee6524dc50",
     "grade": false,
     "grade_id": "cell-puzzle-answer-3",
     "locked": false,
     "schema_version": 3,
     "solution": true,
     "task": false
    }
   },
   "outputs": [],
   "source": [
    "\n",
    "def get_location_with_most_parties(data):\n",
    "    # YOUR CODE HERE\n",
    "    raise NotImplementedError()\n",
    "\n"
   ]
  },
  {
   "cell_type": "code",
   "execution_count": null,
   "id": "e124485d-034c-4429-8d4e-55159fdf9128",
   "metadata": {
    "deletable": false,
    "editable": false,
    "nbgrader": {
     "cell_type": "code",
     "checksum": "c2c46d5c7360961997be43100e904ae3",
     "grade": true,
     "grade_id": "cell-puzzle-test-3",
     "locked": true,
     "points": 7.5,
     "schema_version": 3,
     "solution": false,
     "task": false
    }
   },
   "outputs": [],
   "source": [
    "\n",
    "from minified import CLEANED_DATA\n",
    "import numpy as np\n",
    "\n",
    "tiny_data = np.array([\n",
    "    [1.2, 3.0, 4.0, 5, 3.1],\n",
    "    [2.1, 3.0, 4.0, 20, 6.7],\n",
    "    [13.5, 3.0, 4.0, 20, 1.7],\n",
    "    [2.1, 3.1, 4.1, 20, 6.7],\n",
    "    [3.4, 19.1, 4.1, 20, 6.7],\n",
    "])\n",
    "# (3.0, 4.0) appears most often (3 times)\n",
    "expected = (3.0, 4.0)\n",
    "result = get_location_with_most_parties(tiny_data)\n",
    "print(result)\n",
    "np.testing.assert_allclose(result, expected)\n",
    "\n",
    "tiny_data_2 = np.array([\n",
    "    [5.6, 3.0, 4.0, 5, 3.1],\n",
    "    [2.1, 3.0, 4.0, 20, 6.7],\n",
    "    [6.7, 15.0, 2.5, 100, 1.7],\n",
    "    [2.1, 15.0, 2.5, 20, 6.7],\n",
    "    [3.4, 19.1, 4.1, 20, 6.7],\n",
    "])\n",
    "# (3.0, 4.0) and (15.0, 2.5) appear most often (2 times)\n",
    "# (3.0, 4.0) is chosen because it has the lowest x coordinate\n",
    "expected = (3.0, 4.0)\n",
    "result = get_location_with_most_parties(tiny_data_2)\n",
    "print(result)\n",
    "np.testing.assert_allclose(result, expected)\n",
    "\n",
    "tiny_data_3 = np.array([\n",
    "    [5.6, 3.0, 4.0, 5, 3.1],\n",
    "    [2.1, 3.0, 4.0, 20, 6.7],\n",
    "    [6.7, 3.0, 2.5, 100, 1.7],\n",
    "    [2.1, 3.0, 2.5, 20, 6.7],\n",
    "    [3.4, 19.1, 4.1, 20, 6.7],\n",
    "])\n",
    "# (3.0, 4.0) and (3.0, 2.5) appear most often (2 times)\n",
    "# (3.0, 4.0) and (3.0, 2.5) have the same x coordinate,\n",
    "# so (3.0, 2.5) is chosen because it has the lowest y coordinate\n",
    "expected = (3.0, 2.5)\n",
    "result = get_location_with_most_parties(tiny_data_3)\n",
    "print(result)\n",
    "np.testing.assert_allclose(result, expected)\n",
    "\n",
    "\n",
    "most_common_location = get_location_with_most_parties(CLEANED_DATA)\n",
    "print(most_common_location)\n",
    "expected_data = (1.2, 13.3)\n",
    "\n",
    "np.testing.assert_allclose(most_common_location, expected_data)\n",
    "\n",
    "\n",
    "\n"
   ]
  },
  {
   "cell_type": "markdown",
   "id": "444989d3-0a1b-4979-b780-0aef8fd34c78",
   "metadata": {
    "deletable": false,
    "editable": false,
    "nbgrader": {
     "cell_type": "markdown",
     "checksum": "f03577b2c73931c220ca9c19d26ef349",
     "grade": false,
     "grade_id": "cell-puzzle-description-4",
     "locked": true,
     "schema_version": 3,
     "solution": false,
     "task": false
    }
   },
   "source": [
    "## Task 3.4 (10 points)\n",
    "\n",
    "#### Correlation coefficient\n",
    "\n",
    "Implement the function `correlation` to compute the correlation coefficient between the\n",
    "number of participants and the fun level of the party.\n",
    "This measure is defined as\n",
    "\n",
    "$$\n",
    "r = \\frac{\\sum_{i=1}^{n} (x_i - \\bar{x})(y_i - \\bar{y})}{\\sqrt{\\sum_{i=1}^{n} (x_i - \\bar{x})^2 \\sum_{i=1}^{n} (y_i\n",
    "- \\bar{y})^2}},\n",
    "$$\n",
    "\n",
    "where $x_i$ is the **number of participants** of the $i$-th party, $y_i$ is the **fun level** of the $i$-th party, $\\bar{x}$ is the **average number of participants**, and $\\bar{y}$ is the **average fun level**.\n",
    "The correlation coefficient is a float between $-1$ and $1$. If it is $0$, the number of participants and the fun level are uncorrelated.\n",
    "A positive coefficient indicates a positive correlation and a negative coefficient indicates a negative correlation.\n",
    "\n",
    "Your solution should be efficient in terms of memory and compute.\n"
   ]
  },
  {
   "cell_type": "code",
   "execution_count": null,
   "id": "782eba79-22a2-4f96-98da-7c9db1411113",
   "metadata": {
    "deletable": false,
    "nbgrader": {
     "cell_type": "code",
     "checksum": "b1e49e679502d0a89e72e868ab0e8303",
     "grade": false,
     "grade_id": "cell-puzzle-answer-4",
     "locked": false,
     "schema_version": 3,
     "solution": true,
     "task": false
    }
   },
   "outputs": [],
   "source": [
    "\n",
    "import numpy as np\n",
    "\n",
    "def correlation(data):\n",
    "    # YOUR CODE HERE\n",
    "    raise NotImplementedError()\n",
    "\n"
   ]
  },
  {
   "cell_type": "code",
   "execution_count": null,
   "id": "f3645ae6-6906-4648-b1fa-a22aace99ba8",
   "metadata": {
    "deletable": false,
    "editable": false,
    "nbgrader": {
     "cell_type": "code",
     "checksum": "b8d0dadf14dc52b847328d3e60f6bf5c",
     "grade": true,
     "grade_id": "cell-puzzle-test-4",
     "locked": true,
     "points": 10,
     "schema_version": 3,
     "solution": false,
     "task": false
    }
   },
   "outputs": [],
   "source": [
    "\n",
    "from minified import CLEANED_DATA\n",
    "import numpy as np\n",
    "from unittest import TestCase\n",
    "t = TestCase()\n",
    "\n",
    "# generate random correlation\n",
    "rng = np.random.RandomState(42)\n",
    "X = rng.rand(100) * 10 - 5\n",
    "y = 2 * X + 3 + rng.randn(len(X)) * 0.1\n",
    "\n",
    "data = np.zeros((len(X), 5))\n",
    "data[:, 3] = X\n",
    "data[:, 4] = y\n",
    "\n",
    "result = correlation(data)\n",
    "# we expect a very high correlation\n",
    "t.assertGreater(result, 0.99)\n",
    "\n",
    "data[:, 4] = -y\n",
    "result = correlation(data)\n",
    "# we expect a very high negative correlation\n",
    "t.assertLess(result, -0.99)\n",
    "\n",
    "result = correlation(CLEANED_DATA)\n",
    "t.assertTrue(0.29 < result < 0.30)\n",
    "\n",
    "\n",
    "\n"
   ]
  },
  {
   "cell_type": "markdown",
   "id": "0ae9f591-90bf-473d-b674-3723ee44ef6f",
   "metadata": {
    "deletable": false,
    "editable": false,
    "nbgrader": {
     "cell_type": "markdown",
     "checksum": "ae14b4f9e385cb1864f73c04d667f71e",
     "grade": false,
     "grade_id": "cell-puzzle-description-5",
     "locked": true,
     "schema_version": 3,
     "solution": false,
     "task": false
    }
   },
   "source": [
    "## Task 3.5 (10 points)\n",
    "\n",
    "#### Data visualization\n",
    "\n",
    "Implement a function `plot` that will:\n",
    "- Create a coordinate system where the horizontal axis corresponds to the number of participants and the vertical axis to the fun level.\n",
    "- Create a scatter plot within this coordinate system, where each datapoint corresponds to one party. In this scatter plot, datapoints from parties in the East should be blue, and datapoints from the West should be red. All datapoints with `location_x` $\\geq 10$ belong to the East.\n",
    "- Sort the datapoints by the number of participants in each of the East/West categories\n",
    "(separately for each category), and connect the scatter points with lines using the `o-` marker of the `plt.plot` function, which can be passed positionally after the x and y coordinates.\n",
    "- Compute the fun level's standard deviation for all datapoints in East and West (separately for each category).\n",
    "- Draw a vertical line through each datapoint that exceeds the datapoint by\n",
    "one standard deviation in each direction. You can use a new call to the `plt.plot` function to achieve this.\n",
    "- Provide the title, the axis labels, and the legend. East and West shoud be separated by colors, but it is not necessary to match the precise colors of the example plot below. You do not need to match the size of the figure.\n",
    "\n",
    "The plot should look similar to the following example:\n",
    "<div style=\"text-align:center\">\n",
    "<img src=\"data:image/svg+xml;base64,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\" />\n",
    "</div>\n",
    "\n"
   ]
  },
  {
   "cell_type": "code",
   "execution_count": null,
   "id": "4e2618ac-323d-4c44-9e11-e1b5daf72426",
   "metadata": {
    "deletable": false,
    "nbgrader": {
     "cell_type": "code",
     "checksum": "4d2468841e19ec5c6a35a9c448f9c86c",
     "grade": true,
     "grade_id": "cell-puzzle-answer-5",
     "locked": false,
     "points": 10,
     "schema_version": 3,
     "solution": true,
     "task": false
    }
   },
   "outputs": [],
   "source": [
    "\n",
    "import numpy as np\n",
    "import matplotlib.pyplot as plt\n",
    "\n",
    "\n",
    "def plot(data):\n",
    "    # YOUR CODE HERE\n",
    "    raise NotImplementedError()\n",
    "\n",
    "\n"
   ]
  },
  {
   "cell_type": "code",
   "execution_count": null,
   "id": "df721167-f863-4609-be0f-54b829e59e14",
   "metadata": {
    "deletable": false,
    "editable": false,
    "nbgrader": {
     "cell_type": "code",
     "checksum": "e56027b31ef4b02121b5bc15bef017f5",
     "grade": false,
     "grade_id": "cell-puzzle-test-5",
     "locked": true,
     "schema_version": 3,
     "solution": false,
     "task": false
    }
   },
   "outputs": [],
   "source": [
    "\n",
    "from minified import CLEANED_DATA\n",
    "import numpy as np\n",
    "\n",
    "plot(CLEANED_DATA)\n",
    "\n"
   ]
  },
  {
   "cell_type": "markdown",
   "id": "10698650-178a-4268-9ac6-b9aee75acbf1",
   "metadata": {},
   "source": [
    "# Solutions\n",
    "\n",
    "The following provides solutions to all tasks. We strongly recommend trying to solve all exercises by yourself before reviewing the solutions."
   ]
  },
  {
   "cell_type": "code",
   "execution_count": 1,
   "id": "a1223a81-8352-423f-9b0e-782bccd8ada0",
   "metadata": {},
   "outputs": [],
   "source": [
    "def product_of_all_other_numbers(values):\n",
    "    ### BEGIN SOLUTION\n",
    "    result = []\n",
    "    for i in range(len(values)):\n",
    "        product = 1\n",
    "        for j in range(len(values)):\n",
    "            if i != j:\n",
    "                product *= values[j]\n",
    "        result.append(product)\n",
    "    return result\n",
    "    ### END SOLUTION"
   ]
  },
  {
   "cell_type": "code",
   "execution_count": 2,
   "id": "25acebd3-7c9a-40ec-8ed0-b69bd729c5da",
   "metadata": {},
   "outputs": [],
   "source": [
    "def lowercase_shift_reverse(inp):\n",
    "    \"\"\"\n",
    "    Args:\n",
    "        inp: The lowercase string to be processed.\n",
    "\n",
    "    Returns:\n",
    "        The string with each word reversed and characters shifted.\n",
    "    \"\"\"\n",
    "    ### BEGIN SOLUTION\n",
    "    words = inp.split()\n",
    "    words_reversed = [word[::-1] for word in words]\n",
    "    shifted = [''.join(chr((ord(char) - ord('a') + 1) % 26 + ord('a')) if char.isalpha() else char for char in word) for word in words_reversed]\n",
    "    return ' '.join(shifted)\n",
    "    ### END SOLUTION\n"
   ]
  },
  {
   "cell_type": "code",
   "execution_count": 3,
   "id": "6c9ba49c-a701-4a78-a390-893ca76dc671",
   "metadata": {},
   "outputs": [],
   "source": [
    "class MovingAverageCalculator:\n",
    "    ### BEGIN SOLUTION\n",
    "    instance_count = 0\n",
    "\n",
    "    def __init__(self, base_window_size):\n",
    "        self.base_window_size = base_window_size\n",
    "        self.values = []\n",
    "        MovingAverageCalculator.instance_count += 1\n",
    "\n",
    "    def add_value(self, value):\n",
    "        adjusted_window_size = max(1, self.base_window_size // MovingAverageCalculator.instance_count)\n",
    "        assert adjusted_window_size > 0\n",
    "        while len(self.values) >= adjusted_window_size:\n",
    "            self.values.pop(0)\n",
    "        self.values.append(value)\n",
    "\n",
    "    def calculate_average(self):\n",
    "        return sum(self.values) / len(self.values) if self.values else 0\n",
    "    ### END SOLUTION\n"
   ]
  },
  {
   "cell_type": "code",
   "execution_count": 4,
   "id": "44078d69-a3fa-458a-be1e-6caf5f88043f",
   "metadata": {},
   "outputs": [],
   "source": [
    "\n",
    "import numpy as np\n",
    "points = np.array([[4, 5], [8, 1], [12, 3], [6, 9], [3, 3]])\n",
    "reference = np.array([5, 5])\n",
    "distance = 10\n",
    "\n",
    "slow_result = np.array(slow1(points, reference, distance))\n",
    "fast_result = fast1(points, reference, distance)\n",
    "print('\\nslow\\n', slow_result)\n",
    "print('\\nfast\\n', fast_result)\n",
    "\n",
    "np.testing.assert_array_equal(slow_result, fast_result)\n",
    "\n",
    "for _ in range(1000):\n",
    "    points = np.random.randint(0, 100, size=(100, 2))\n",
    "    reference = np.random.randint(0, 100, size=(2,))\n",
    "    radius = np.random.randint(1, 100)\n",
    "\n",
    "    np.testing.assert_array_equal(slow1(points, reference, radius), fast1(points, reference, radius))\n",
    "\n",
    "fast1.assert_no_imports()\n",
    "fast1.assert_not_too_many_loops()\n",
    "\n",
    "\n",
    "def slow1(points, reference, distance):\n",
    "    result = []\n",
    "    for i, point in enumerate(points):\n",
    "        manhattan_dist = sum(abs(p - r) for p, r in zip(point, reference))\n",
    "        if manhattan_dist <= distance and point[0] % 4 == 0:\n",
    "            result.append(i)\n",
    "    return result\n",
    "def fast1(points, reference, distance):\n",
    "    ### BEGIN SOLUTION\n",
    "    mask1 = np.sum(np.abs(points - reference), axis=1) <= distance\n",
    "    mask2 = points[:, 0] % 4 == 0\n",
    "    mask = mask1 & mask2\n",
    "    return np.arange(points.shape[0])[mask]\n",
    "    ### END SOLUTION\n",
    "\n",
    "\n"
   ]
  },
  {
   "cell_type": "code",
   "execution_count": 5,
   "id": "466fbd1c-fab3-4017-bff3-14be05d80241",
   "metadata": {},
   "outputs": [],
   "source": [
    "import numpy as np\n",
    "\n",
    "def fast2(x):\n",
    "    ### BEGIN SOLUTION\n",
    "    x = x * (np.arange(x.shape[1]) + 1)\n",
    "    return np.cumsum(x, axis=1)\n",
    "    ### END SOLUTION\n"
   ]
  },
  {
   "cell_type": "code",
   "execution_count": 6,
   "id": "f78e16a9-e2de-4238-9711-bb40462d3a48",
   "metadata": {},
   "outputs": [],
   "source": [
    "import numpy as np\n",
    "\n",
    "def fast3(X):\n",
    "    ### BEGIN SOLUTION\n",
    "    # RBF-Kernel matrix\n",
    "    distances = ((X[None] - X[:, None]) ** 2).sum(2) ** .5\n",
    "    sim = - np.exp(distances / 2 )\n",
    "    return sim\n",
    "    ### END SOLUTION\n"
   ]
  },
  {
   "cell_type": "code",
   "execution_count": 7,
   "id": "f2579279-4b49-4c3d-892a-c078c1e06805",
   "metadata": {},
   "outputs": [],
   "source": [
    "def load_file(filename):\n",
    "    ### BEGIN SOLUTION\n",
    "    out = []\n",
    "    with open(filename, 'r') as f:\n",
    "        for i, line in enumerate(f):\n",
    "            if i == 0:\n",
    "                continue\n",
    "\n",
    "            string_split = [x.strip() for x in line.split(',')]\n",
    "            if '' in string_split:\n",
    "                continue\n",
    "            to_map = [float, float, float, int, float]\n",
    "            values = [f(x) for f,x in zip(to_map, line.split(','))]\n",
    "            out.append(values)\n",
    "\n",
    "    return out\n",
    "    ### END SOLUTION\n"
   ]
  },
  {
   "cell_type": "code",
   "execution_count": 8,
   "id": "1ca752a9-aa33-4a81-bec0-aa38733d8a3d",
   "metadata": {},
   "outputs": [],
   "source": [
    "def clean_data(data):\n",
    "    assert data.ndim == 2\n",
    "    ### BEGIN SOLUTION\n",
    "    mask_location_x = (data[:, 1] >= 0) & (data[:, 1] < 20)\n",
    "    mask_location_y = (data[:, 2] >= 0) & (data[:, 2] < 20)\n",
    "    mask_number_of_participants = (data[:, 3] > 0) & (data[:, 3] <= 100)\n",
    "    mask_fun_level = (data[:, 4] >= 1) & (data[:, 4] <= 10)\n",
    "\n",
    "    mask_will_keep = mask_location_x & mask_location_y & mask_number_of_participants & mask_fun_level\n",
    "\n",
    "    data_keep = data[mask_will_keep]\n",
    "\n",
    "    data_keep[:, 0] %= 24\n",
    "\n",
    "    return data_keep\n",
    "    ### END SOLUTION\n"
   ]
  },
  {
   "cell_type": "code",
   "execution_count": 9,
   "id": "4cbb0fc9-3a0c-4087-8d07-41d4d422715c",
   "metadata": {},
   "outputs": [],
   "source": [
    "def get_location_with_most_parties(data):\n",
    "    ### BEGIN SOLUTION\n",
    "    locations, counts = np.unique(data[:, 1:3], axis=0, return_counts=True)\n",
    "\n",
    "    max_locations = locations[counts == np.max(counts)]\n",
    "\n",
    "    if len(max_locations) == 1:\n",
    "        return tuple(max_locations[0])\n",
    "\n",
    "    max_locations_min_x = max_locations[max_locations[:, 0] == np.min(max_locations[:, 0])]\n",
    "\n",
    "    if len(max_locations_min_x) == 1:\n",
    "        return tuple(max_locations_min_x[0])\n",
    "\n",
    "    max_locations_min_x_min_y = max_locations_min_x[max_locations_min_x[:, 1] == np.min(max_locations_min_x[:, 1])]\n",
    "\n",
    "    assert len(max_locations_min_x_min_y) == 1\n",
    "\n",
    "    return tuple(max_locations_min_x_min_y[0])\n",
    "    ### END SOLUTION\n"
   ]
  },
  {
   "cell_type": "code",
   "execution_count": 10,
   "id": "c9b69698-2b93-4f6b-abdf-82e3ad08ed61",
   "metadata": {},
   "outputs": [],
   "source": [
    "def correlation(data):\n",
    "    ### BEGIN SOLUTION\n",
    "    x = data[:, 3]\n",
    "    y = data[:, 4]\n",
    "\n",
    "    x_mean = np.mean(x)\n",
    "    y_mean = np.mean(y)\n",
    "\n",
    "    numerator = np.sum((x - x_mean) * (y - y_mean))\n",
    "    denominator = np.sqrt(np.sum((x - x_mean) ** 2) * np.sum((y - y_mean) ** 2))\n",
    "\n",
    "    return numerator / denominator\n",
    "\n",
    "    ### END SOLUTION\n"
   ]
  },
  {
   "cell_type": "code",
   "execution_count": 11,
   "id": "58fe434e-0773-4414-bbce-0daecb321658",
   "metadata": {},
   "outputs": [],
   "source": [
    "def plot(data):\n",
    "    ### BEGIN SOLUTION\n",
    "    # Separate data into east and west based on the X coordinate\n",
    "    east_data = data[data[:, 1] >= 10]\n",
    "    west_data = data[data[:, 1] < 10]\n",
    "\n",
    "    std_dev = {\n",
    "        'east': np.std(east_data[:, 4]),\n",
    "        'west': np.std(west_data[:, 4]),\n",
    "    }\n",
    "\n",
    "    fig, ax = plt.subplots(figsize=(10, 6))\n",
    "\n",
    "    for dataset, color, label in [(east_data, 'blue', 'east'),\n",
    "                                  (west_data, 'red', 'west')]:\n",
    "        # Sorting dataset by the number of participants\n",
    "        dataset_sorted = dataset[np.argsort(dataset[:, 3])]\n",
    "\n",
    "        # Plot fun level over number of participants\n",
    "        plt.plot(dataset_sorted[:, 3], dataset_sorted[:, 4], 'o-', color=color,\n",
    "                 label=label)\n",
    "\n",
    "        # Adding standard deviation lines\n",
    "        for x, y in zip(dataset_sorted[:, 3], dataset_sorted[:, 4]):\n",
    "            plt.plot([x, x], [y - std_dev[label], y + std_dev[label]],\n",
    "                     color=color)\n",
    "\n",
    "    plt.xlabel('Number of participants')\n",
    "    plt.ylabel('Fun level')\n",
    "    plt.title(\n",
    "        'Fun level vs. number of participants (east vs. west) with group-level standard deviation')\n",
    "    plt.legend()\n",
    "    plt.show()\n",
    "    ### END SOLUTION\n"
   ]
  }
 ],
 "metadata": {
  "kernelspec": {
   "display_name": "Python 3 (ipykernel)",
   "language": "python",
   "name": "python3"
  },
  "language_info": {
   "codemirror_mode": {
    "name": "ipython",
    "version": 3
   },
   "file_extension": ".py",
   "mimetype": "text/x-python",
   "name": "python",
   "nbconvert_exporter": "python",
   "pygments_lexer": "ipython3",
   "version": "3.10.13"
  }
 },
 "nbformat": 4,
 "nbformat_minor": 5
}
